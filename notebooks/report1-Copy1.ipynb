{
 "cells": [
  {
   "cell_type": "markdown",
   "metadata": {},
   "source": [
    "# Report 1\n"
   ]
  },
  {
   "cell_type": "markdown",
   "metadata": {},
   "source": [
    "### library importation, constant definition and data loading from files"
   ]
  },
  {
   "cell_type": "markdown",
   "metadata": {},
   "source": [
    "The next cell defines the imports nedeed to execute the notebook"
   ]
  },
  {
   "cell_type": "code",
   "execution_count": 4,
   "metadata": {},
   "outputs": [
    {
     "name": "stdout",
     "output_type": "stream",
     "text": [
      "Populating the interactive namespace from numpy and matplotlib\n"
     ]
    }
   ],
   "source": [
    "import pandas as pd\n",
    "#!pip install geopandas\n",
    "import geopandas as gpd\n",
    "import matplotlib.pyplot as plt\n",
    "%pylab inline\n",
    "from math import sin, cos, sqrt, atan2, radians\n",
    "pd.set_option('precision', 5)\n",
    "from functools import reduce\n",
    "import os\n",
    "from operator import truediv\n",
    "from mpl_toolkits.mplot3d import Axes3D  # noqa: F401 unused import\n",
    "\n",
    "import matplotlib.pyplot as plt\n",
    "import numpy as np\n",
    "\n",
    "import os\n",
    "import sys\n",
    "module_path = os.path.abspath(os.path.join('.'))\n",
    "if module_path not in sys.path:\n",
    "    sys.path.append(module_path)\n",
    "import pareto\n"
   ]
  },
  {
   "cell_type": "markdown",
   "metadata": {},
   "source": [
    "The next cell defines the contanst used by the procedures bellow\n"
   ]
  },
  {
   "cell_type": "code",
   "execution_count": 5,
   "metadata": {},
   "outputs": [],
   "source": [
    "report1_dir = '../dras-controller/output/'\n",
    "output_tex = '../dras-controller/output_tex/'\n",
    "\n",
    "def print_full(x):\n",
    "    pd.set_option('display.max_rows', len(x))\n",
    "    display(x)\n",
    "    #print(x.to_latex(index=False)) \n",
    "    pd.reset_option('display.max_rows')"
   ]
  },
  {
   "cell_type": "markdown",
   "metadata": {},
   "source": [
    "\n"
   ]
  },
  {
   "cell_type": "markdown",
   "metadata": {},
   "source": [
    "# plot client function\n",
    "\n",
    "the scenarios are generated from swf files\n",
    "\n"
   ]
  },
  {
   "cell_type": "markdown",
   "metadata": {},
   "source": [
    "procesar pareto"
   ]
  },
  {
   "cell_type": "markdown",
   "metadata": {},
   "source": [
    "## negoTiation"
   ]
  },
  {
   "cell_type": "code",
   "execution_count": 54,
   "metadata": {},
   "outputs": [],
   "source": [
    "def plotPareto(pattern1,pattern2,pattern3,lesspattern,upper_offer,ax,color):    \n",
    "       \n",
    "    for filename in [f for f in os.listdir(report1_dir +'/') if (pattern1 in f \n",
    "                                                                 and pattern2 in f\n",
    "                                                                 and pattern3 in f\n",
    "                                                                 and not lesspattern in f and \".FUN\" in f)]:\n",
    "        data = pd.read_csv(report1_dir +'/' +filename, header=None,sep=' ',skiprows=0,)\n",
    "        data.columns = [\n",
    "            'i','offer ($)', 'clients reduction (W)','motor','err','dcCost','socialCost','#V','VT']\n",
    "\n",
    "        data1 = data[['clients reduction (W)','motor','offer ($)','err','dcCost','socialCost']]\n",
    "        data1 = data1.round(4)\n",
    "        #//data1 = data1.set_index('offer ($)')\n",
    "        \n",
    "        data = data[data['dcCost']<upper_offer]\n",
    "        data['offer ($)'] = data['dcCost'] \n",
    "\n",
    "        ax.plot(data['dcCost'], data['clients reduction (W)'], label=filename,color=color)\n",
    "\n",
    "        #print(data1)\n",
    "    return ax \n",
    "\n",
    "\n",
    "def changeLow(name):\n",
    "    if \"highest-deadline-first\" in name:\n",
    "        return \"HDF\"\n",
    "    if \"highest-penalty-first\" in name:\n",
    "        return \"HPF\"\n",
    "    if \"highest-mips-first\" in name:\n",
    "        return \"LLF\"\n",
    "    if \"lowest-id-first\" in name:\n",
    "        return \"FCFS\"\n",
    "def getHeu(name):\n",
    "    if \"BTO-g\" in name:\n",
    "        return \"BTO-g\"\n",
    "    if \"BTO-d\" in name:\n",
    "        return \"BTO-d\"\n",
    "    if \"ideal\" in name:\n",
    "        return \"ideal\"\n",
    "    if \"nash\" in name:\n",
    "        return \"NE\"\n",
    "    if \"PMP\" in name:\n",
    "        return \"PMP\"\n",
    "    if \"bau\" in name:\n",
    "        return \"BaU\"\n",
    "    return name\n",
    "\n",
    "def plotUpperLvl(pattern1,pattern2,pattern3,lesspattern,upper_offer,ax,mark,color):    \n",
    "    \n",
    "    data = pd.DataFrame()\n",
    "    for filename in [f for f in os.listdir(report1_dir +'/') if (pattern1 in f \n",
    "                                                                 and pattern2 in f\n",
    "                                                                 and pattern3 in f\n",
    "                                                                 and not lesspattern in f \n",
    "                                                                 and not \"bau\" in f \n",
    "                                                                                                                                  and not \"bau\" in f \n",
    "                                                                 and not \"lowest\" in f \n",
    "\n",
    "                                                                 \n",
    "                                                                                                                              and \".FUN\" in f)]:\n",
    "        data1 = pd.read_csv(report1_dir +'/' +filename, header=None,sep=' ',skiprows=0,)\n",
    "        data1.columns = [\n",
    "            'i','offer ($)', 'clients reduction (W)','motor','err','dcCost','socialCost','#V','VT']\n",
    "        data1['file'] = filename\n",
    "        \n",
    "        data1['clients reduction (W)']=data1['clients reduction (W)'].round(1)\n",
    "        data1['dcCost']=data1['dcCost'].round(1)       \n",
    "        \n",
    "        \n",
    "        data1['low'] = data1.apply(lambda e:changeLow(e['file']),axis = 1)\n",
    "        data1['heu'] = data1.apply(lambda e:getHeu(e['file']),axis = 1)\n",
    "        data1['heu2'] =  data1['heu']+'+' + data1['low']\n",
    "        data1['point'] = data1.apply(lambda e:\n",
    "                                     '('+str(e['dcCost'])+','+str(e['clients reduction (W)'])+')'\n",
    "                                     ,\n",
    "                                     axis = 1)\n",
    "        \n",
    "        \n",
    "        data1 = data1[['heu2','point']]\n",
    "        data1 = data1.round(4)\n",
    "        data = data.append(data1)\n",
    "    data = data.sort_values(['heu2']) \n",
    "    return data \n"
   ]
  },
  {
   "cell_type": "code",
   "execution_count": 60,
   "metadata": {
    "scrolled": true
   },
   "outputs": [
    {
     "data": {
      "text/html": [
       "<style>div.output_scroll { height: 44em; }</style>"
      ],
      "text/plain": [
       "<IPython.core.display.HTML object>"
      ]
     },
     "metadata": {},
     "output_type": "display_data"
    },
    {
     "data": {
      "text/html": [
       "<div>\n",
       "<style scoped>\n",
       "    .dataframe tbody tr th:only-of-type {\n",
       "        vertical-align: middle;\n",
       "    }\n",
       "\n",
       "    .dataframe tbody tr th {\n",
       "        vertical-align: top;\n",
       "    }\n",
       "\n",
       "    .dataframe thead th {\n",
       "        text-align: right;\n",
       "    }\n",
       "</style>\n",
       "<table border=\"1\" class=\"dataframe\">\n",
       "  <thead>\n",
       "    <tr style=\"text-align: right;\">\n",
       "      <th></th>\n",
       "      <th>heu2</th>\n",
       "      <th>point</th>\n",
       "      <th>heu2</th>\n",
       "      <th>point</th>\n",
       "      <th>heu2</th>\n",
       "      <th>point</th>\n",
       "    </tr>\n",
       "  </thead>\n",
       "  <tbody>\n",
       "    <tr>\n",
       "      <th>0</th>\n",
       "      <td>BTO-d+HDF</td>\n",
       "      <td>(510.2,5320.0)</td>\n",
       "      <td>BTO-d+HDF</td>\n",
       "      <td>(144.0,2073.0)</td>\n",
       "      <td>BTO-d+HDF</td>\n",
       "      <td>(61.1,1222.0)</td>\n",
       "    </tr>\n",
       "    <tr>\n",
       "      <th>0</th>\n",
       "      <td>BTO-d+HPF</td>\n",
       "      <td>(51450.3,18684.0)</td>\n",
       "      <td>BTO-d+HPF</td>\n",
       "      <td>(30034.1,12541.0)</td>\n",
       "      <td>BTO-d+HPF</td>\n",
       "      <td>(12181.3,5939.0)</td>\n",
       "    </tr>\n",
       "    <tr>\n",
       "      <th>0</th>\n",
       "      <td>BTO-d+LLF</td>\n",
       "      <td>(444.6,5343.0)</td>\n",
       "      <td>BTO-d+LLF</td>\n",
       "      <td>(232.0,2079.0)</td>\n",
       "      <td>BTO-d+LLF</td>\n",
       "      <td>(106.4,1205.0)</td>\n",
       "    </tr>\n",
       "    <tr>\n",
       "      <th>0</th>\n",
       "      <td>BTO-g+HDF</td>\n",
       "      <td>(259.6,5192.0)</td>\n",
       "      <td>BTO-g+HDF</td>\n",
       "      <td>(103.4,2069.0)</td>\n",
       "      <td>BTO-g+HDF</td>\n",
       "      <td>(61.1,1222.0)</td>\n",
       "    </tr>\n",
       "    <tr>\n",
       "      <th>0</th>\n",
       "      <td>BTO-g+HPF</td>\n",
       "      <td>(60108.0,20036.0)</td>\n",
       "      <td>BTO-g+HPF</td>\n",
       "      <td>(25845.6,10769.0)</td>\n",
       "      <td>BTO-g+HPF</td>\n",
       "      <td>(13702.8,5593.0)</td>\n",
       "    </tr>\n",
       "    <tr>\n",
       "      <th>0</th>\n",
       "      <td>BTO-g+LLF</td>\n",
       "      <td>(264.6,5292.0)</td>\n",
       "      <td>BTO-g+LLF</td>\n",
       "      <td>(102.5,2050.0)</td>\n",
       "      <td>BTO-g+LLF</td>\n",
       "      <td>(59.9,1198.0)</td>\n",
       "    </tr>\n",
       "    <tr>\n",
       "      <th>0</th>\n",
       "      <td>NE+HDF</td>\n",
       "      <td>(29866.3,5420.0)</td>\n",
       "      <td>NE+HDF</td>\n",
       "      <td>(15886.9,2089.0)</td>\n",
       "      <td>NE+HDF</td>\n",
       "      <td>(7846.7,1228.0)</td>\n",
       "    </tr>\n",
       "    <tr>\n",
       "      <th>0</th>\n",
       "      <td>NE+HPF</td>\n",
       "      <td>(29794.9,6732.0)</td>\n",
       "      <td>NE+HPF</td>\n",
       "      <td>(15681.6,3548.0)</td>\n",
       "      <td>NE+HPF</td>\n",
       "      <td>(6781.7,3479.0)</td>\n",
       "    </tr>\n",
       "    <tr>\n",
       "      <th>0</th>\n",
       "      <td>NE+LLF</td>\n",
       "      <td>(29864.4,5472.0)</td>\n",
       "      <td>NE+LLF</td>\n",
       "      <td>(15884.8,2110.0)</td>\n",
       "      <td>NE+LLF</td>\n",
       "      <td>(7847.1,1219.0)</td>\n",
       "    </tr>\n",
       "    <tr>\n",
       "      <th>0</th>\n",
       "      <td>PMP+HDF</td>\n",
       "      <td>(2069.0,5413.0)</td>\n",
       "      <td>PMP+HDF</td>\n",
       "      <td>(346.4,2089.0)</td>\n",
       "      <td>PMP+HDF</td>\n",
       "      <td>(120.4,1228.0)</td>\n",
       "    </tr>\n",
       "    <tr>\n",
       "      <th>0</th>\n",
       "      <td>PMP+HPF</td>\n",
       "      <td>(86487.5,26091.0)</td>\n",
       "      <td>PMP+HPF</td>\n",
       "      <td>(31641.1,12837.0)</td>\n",
       "      <td>PMP+HPF</td>\n",
       "      <td>(12181.3,5939.0)</td>\n",
       "    </tr>\n",
       "    <tr>\n",
       "      <th>0</th>\n",
       "      <td>PMP+LLF</td>\n",
       "      <td>(2363.4,5459.0)</td>\n",
       "      <td>PMP+LLF</td>\n",
       "      <td>(372.9,2086.0)</td>\n",
       "      <td>PMP+LLF</td>\n",
       "      <td>(106.4,1205.0)</td>\n",
       "    </tr>\n",
       "    <tr>\n",
       "      <th>0</th>\n",
       "      <td>ideal+HDF</td>\n",
       "      <td>(0.0,5494.0)</td>\n",
       "      <td>ideal+HDF</td>\n",
       "      <td>(-0.0,2168.0)</td>\n",
       "      <td>ideal+HDF</td>\n",
       "      <td>(0.0,1260.0)</td>\n",
       "    </tr>\n",
       "    <tr>\n",
       "      <th>0</th>\n",
       "      <td>ideal+HPF</td>\n",
       "      <td>(-0.0,26810.0)</td>\n",
       "      <td>ideal+HPF</td>\n",
       "      <td>(-0.0,13446.0)</td>\n",
       "      <td>ideal+HPF</td>\n",
       "      <td>(0.0,7113.0)</td>\n",
       "    </tr>\n",
       "    <tr>\n",
       "      <th>0</th>\n",
       "      <td>ideal+LLF</td>\n",
       "      <td>(-0.0,5532.0)</td>\n",
       "      <td>ideal+LLF</td>\n",
       "      <td>(-0.0,2176.0)</td>\n",
       "      <td>ideal+LLF</td>\n",
       "      <td>(0.0,1256.0)</td>\n",
       "    </tr>\n",
       "  </tbody>\n",
       "</table>\n",
       "</div>"
      ],
      "text/plain": [
       "        heu2              point       heu2              point       heu2  \\\n",
       "0  BTO-d+HDF     (510.2,5320.0)  BTO-d+HDF     (144.0,2073.0)  BTO-d+HDF   \n",
       "0  BTO-d+HPF  (51450.3,18684.0)  BTO-d+HPF  (30034.1,12541.0)  BTO-d+HPF   \n",
       "0  BTO-d+LLF     (444.6,5343.0)  BTO-d+LLF     (232.0,2079.0)  BTO-d+LLF   \n",
       "0  BTO-g+HDF     (259.6,5192.0)  BTO-g+HDF     (103.4,2069.0)  BTO-g+HDF   \n",
       "0  BTO-g+HPF  (60108.0,20036.0)  BTO-g+HPF  (25845.6,10769.0)  BTO-g+HPF   \n",
       "0  BTO-g+LLF     (264.6,5292.0)  BTO-g+LLF     (102.5,2050.0)  BTO-g+LLF   \n",
       "0     NE+HDF   (29866.3,5420.0)     NE+HDF   (15886.9,2089.0)     NE+HDF   \n",
       "0     NE+HPF   (29794.9,6732.0)     NE+HPF   (15681.6,3548.0)     NE+HPF   \n",
       "0     NE+LLF   (29864.4,5472.0)     NE+LLF   (15884.8,2110.0)     NE+LLF   \n",
       "0    PMP+HDF    (2069.0,5413.0)    PMP+HDF     (346.4,2089.0)    PMP+HDF   \n",
       "0    PMP+HPF  (86487.5,26091.0)    PMP+HPF  (31641.1,12837.0)    PMP+HPF   \n",
       "0    PMP+LLF    (2363.4,5459.0)    PMP+LLF     (372.9,2086.0)    PMP+LLF   \n",
       "0  ideal+HDF       (0.0,5494.0)  ideal+HDF      (-0.0,2168.0)  ideal+HDF   \n",
       "0  ideal+HPF     (-0.0,26810.0)  ideal+HPF     (-0.0,13446.0)  ideal+HPF   \n",
       "0  ideal+LLF      (-0.0,5532.0)  ideal+LLF      (-0.0,2176.0)  ideal+LLF   \n",
       "\n",
       "              point  \n",
       "0     (61.1,1222.0)  \n",
       "0  (12181.3,5939.0)  \n",
       "0    (106.4,1205.0)  \n",
       "0     (61.1,1222.0)  \n",
       "0  (13702.8,5593.0)  \n",
       "0     (59.9,1198.0)  \n",
       "0   (7846.7,1228.0)  \n",
       "0   (6781.7,3479.0)  \n",
       "0   (7847.1,1219.0)  \n",
       "0    (120.4,1228.0)  \n",
       "0  (12181.3,5939.0)  \n",
       "0    (106.4,1205.0)  \n",
       "0      (0.0,1260.0)  \n",
       "0      (0.0,7113.0)  \n",
       "0      (0.0,1256.0)  "
      ]
     },
     "execution_count": 60,
     "metadata": {},
     "output_type": "execute_result"
    },
    {
     "data": {
      "image/png": "[encoded data removed]",
      "text/plain": [
       "<Figure size 432x288 with 1 Axes>"
      ]
     },
     "metadata": {
      "needs_background": "light"
     },
     "output_type": "display_data"
    }
   ],
   "source": [
    "fig, ax = plt.subplots()\n",
    "from IPython.core.display import display, HTML\n",
    "\n",
    "display(HTML(\"<style>div.output_scroll { height: 44em; }</style>\"))\n",
    "\n",
    "#plotUpperLvl(\"small-tol1\",\"\",\"\",\"pareto\",2000000,ax,\"*\",\"r\")\n",
    "#plotUpperLvl(\"DRD-6-2-2-het-1\",\"\",\"\",\"pareto\",2000000,ax,\"*\",\"r\")\n",
    "#plotUpperLvl(\"DRD-5-20-5-het-1\",\"\",\"\",\"pareto\",2000000,ax,\"*\",\"r\")\n",
    "\n",
    "\n",
    "data = pd.concat([plotUpperLvl(\"DRD-20-5-5-hom-1\",\"\",\"\",\"pareto\",2000000,ax,\"*\",\"r\"),\n",
    "                  plotUpperLvl(\"DRD-2-6-2-hom-1\",\"\",\"\",\"pareto\",2000000,ax,\"*\",\"r\"),\n",
    "                  plotUpperLvl(\"DRD-1-3-1-het-1\",\"\",\"\",\"pareto\",2000000,ax,\"*\",\"r\")\n",
    "                 ], axis=1)\n",
    "\n",
    "data\n",
    "#\n",
    "#\n"
   ]
  },
  {
   "cell_type": "code",
   "execution_count": 29,
   "metadata": {
    "scrolled": true
   },
   "outputs": [
    {
     "ename": "AttributeError",
     "evalue": "'DataFrame' object has no attribute 'legend'",
     "output_type": "error",
     "traceback": [
      "\u001b[0;31m---------------------------------------------------------------------------\u001b[0m",
      "\u001b[0;31mAttributeError\u001b[0m                            Traceback (most recent call last)",
      "\u001b[0;32m<ipython-input-29-ab25d360a0ec>\u001b[0m in \u001b[0;36m<module>\u001b[0;34m\u001b[0m\n\u001b[1;32m     22\u001b[0m \u001b[0;31m#ax.set_xscale('log')\u001b[0m\u001b[0;34m\u001b[0m\u001b[0;34m\u001b[0m\u001b[0;34m\u001b[0m\u001b[0m\n\u001b[1;32m     23\u001b[0m \u001b[0;34m\u001b[0m\u001b[0m\n\u001b[0;32m---> 24\u001b[0;31m \u001b[0max\u001b[0m\u001b[0;34m.\u001b[0m\u001b[0mlegend\u001b[0m\u001b[0;34m(\u001b[0m\u001b[0mloc\u001b[0m\u001b[0;34m=\u001b[0m\u001b[0;34m'best'\u001b[0m\u001b[0;34m,\u001b[0m \u001b[0mbbox_to_anchor\u001b[0m\u001b[0;34m=\u001b[0m\u001b[0;34m(\u001b[0m\u001b[0;36m1\u001b[0m\u001b[0;34m,\u001b[0m\u001b[0;36m1\u001b[0m\u001b[0;34m)\u001b[0m\u001b[0;34m)\u001b[0m\u001b[0;34m\u001b[0m\u001b[0;34m\u001b[0m\u001b[0m\n\u001b[0m\u001b[1;32m     25\u001b[0m \u001b[0max\u001b[0m\u001b[0;34m.\u001b[0m\u001b[0mset_xlabel\u001b[0m\u001b[0;34m(\u001b[0m\u001b[0;34m'dcCost ($) '\u001b[0m\u001b[0;34m)\u001b[0m\u001b[0;34m\u001b[0m\u001b[0;34m\u001b[0m\u001b[0m\n\u001b[1;32m     26\u001b[0m \u001b[0max\u001b[0m\u001b[0;34m.\u001b[0m\u001b[0mset_ylabel\u001b[0m\u001b[0;34m(\u001b[0m\u001b[0;34m'WATTS'\u001b[0m\u001b[0;34m)\u001b[0m\u001b[0;34m\u001b[0m\u001b[0;34m\u001b[0m\u001b[0m\n",
      "\u001b[0;32m~/anaconda3/lib/python3.7/site-packages/pandas/core/generic.py\u001b[0m in \u001b[0;36m__getattr__\u001b[0;34m(self, name)\u001b[0m\n\u001b[1;32m   5065\u001b[0m             \u001b[0;32mif\u001b[0m \u001b[0mself\u001b[0m\u001b[0;34m.\u001b[0m\u001b[0m_info_axis\u001b[0m\u001b[0;34m.\u001b[0m\u001b[0m_can_hold_identifiers_and_holds_name\u001b[0m\u001b[0;34m(\u001b[0m\u001b[0mname\u001b[0m\u001b[0;34m)\u001b[0m\u001b[0;34m:\u001b[0m\u001b[0;34m\u001b[0m\u001b[0;34m\u001b[0m\u001b[0m\n\u001b[1;32m   5066\u001b[0m                 \u001b[0;32mreturn\u001b[0m \u001b[0mself\u001b[0m\u001b[0;34m[\u001b[0m\u001b[0mname\u001b[0m\u001b[0;34m]\u001b[0m\u001b[0;34m\u001b[0m\u001b[0;34m\u001b[0m\u001b[0m\n\u001b[0;32m-> 5067\u001b[0;31m             \u001b[0;32mreturn\u001b[0m \u001b[0mobject\u001b[0m\u001b[0;34m.\u001b[0m\u001b[0m__getattribute__\u001b[0m\u001b[0;34m(\u001b[0m\u001b[0mself\u001b[0m\u001b[0;34m,\u001b[0m \u001b[0mname\u001b[0m\u001b[0;34m)\u001b[0m\u001b[0;34m\u001b[0m\u001b[0;34m\u001b[0m\u001b[0m\n\u001b[0m\u001b[1;32m   5068\u001b[0m \u001b[0;34m\u001b[0m\u001b[0m\n\u001b[1;32m   5069\u001b[0m     \u001b[0;32mdef\u001b[0m \u001b[0m__setattr__\u001b[0m\u001b[0;34m(\u001b[0m\u001b[0mself\u001b[0m\u001b[0;34m,\u001b[0m \u001b[0mname\u001b[0m\u001b[0;34m,\u001b[0m \u001b[0mvalue\u001b[0m\u001b[0;34m)\u001b[0m\u001b[0;34m:\u001b[0m\u001b[0;34m\u001b[0m\u001b[0;34m\u001b[0m\u001b[0m\n",
      "\u001b[0;31mAttributeError\u001b[0m: 'DataFrame' object has no attribute 'legend'"
     ]
    },
    {
     "data": {
      "image/png": "[encoded data removed]",
      "text/plain": [
       "<Figure size 432x288 with 1 Axes>"
      ]
     },
     "metadata": {
      "needs_background": "light"
     },
     "output_type": "display_data"
    }
   ],
   "source": [
    "\n",
    "fig, ax = plt.subplots()\n",
    "\n",
    "ax = plotUpperLvl(\"large-tol0.4\",\"nash\",\"highest-penalty\",\"null\",2000000,ax,\"o\",\"b\")\n",
    "ax = plotUpperLvl(\"large-tol0.4\",\"BTO-d\",\"highest-penalty\",\"null\",2000000,ax,\"o\",\"r\")\n",
    "ax = plotUpperLvl(\"large-tol0.4\",\"BTO-g\",\"highest-penalty\",\"null\",2000000,ax,\"o\",\"g\")\n",
    "ax = plotUpperLvl(\"large-tol0.4\",\"ideal\",\"highest-penalty\",\"null\",2000000,ax,\"o\",\"k\")\n",
    "ax = plotUpperLvl(\"large-tol0.4\",\"PMP\",\"highest-penalty\",\"null\",2000000,ax,\"o\",\"c\")\n",
    "\n",
    "ax = plotUpperLvl(\"large-tol0.4\",\"nash\",\"highest-mips\",\"null\",2000000,ax,\"x\",\"b\")\n",
    "ax = plotUpperLvl(\"large-tol0.4\",\"BTO-d\",\"highest-mips\",\"null\",2000000,ax,\"x\",\"r\")\n",
    "ax = plotUpperLvl(\"large-tol0.4\",\"BTO-g\",\"highest-mips\",\"null\",2000000,ax,\"x\",\"g\")\n",
    "ax = plotUpperLvl(\"large-tol0.4\",\"ideal\",\"highest-mips\",\"null\",2000000,ax,\"x\",\"k\")\n",
    "ax = plotUpperLvl(\"large-tol0.4\",\"PMP\",\"highest-mips\",\"null\",2000000,ax,\"x\",\"c\")\n",
    "\n",
    "ax = plotUpperLvl(\"large-tol0.4\",\"nash\",\"lowest-deadline\",\"null\",2000000,ax,\"*\",\"b\")\n",
    "ax = plotUpperLvl(\"large-tol0.4\",\"BTO-d\",\"lowest-deadline\",\"null\",2000000,ax,\"*\",\"r\")\n",
    "ax = plotUpperLvl(\"large-tol0.4\",\"BTO-g\",\"lowest-deadline\",\"null\",2000000,ax,\"*\",\"g\")\n",
    "ax = plotUpperLvl(\"large-tol0.4\",\"ideal\",\"lowest-deadline\",\"null\",2000000,ax,\"*\",\"k\")\n",
    "ax = plotUpperLvl(\"large-tol0.4\",\"PMP\",\"lowest-deadline\",\"null\",2000000,ax,\"*\",\"c\")\n",
    "\n",
    "#ax.set_yscale('log')\n",
    "#ax.set_xscale('log')\n",
    "\n",
    "ax.legend(loc='best', bbox_to_anchor=(1,1))\n",
    "ax.set_xlabel('dcCost ($) ')\n",
    "ax.set_ylabel('WATTS')"
   ]
  },
  {
   "cell_type": "code",
   "execution_count": null,
   "metadata": {},
   "outputs": [],
   "source": [
    "def showHeu(instance):\n",
    "    fig, ax = plt.subplots()\n",
    "\n",
    "    ax = plotUpperLvl(instance,\"pareto\",\"highest-penalty\",\"null\",120000,ax,\"o\",\"y\")\n",
    "    ax = plotUpperLvl(instance,\"nash\",\"highest-penalty\",\"null\",170000,ax,\"o\",\"b\")\n",
    "    ax = plotUpperLvl(instance,\"BTO-d\",\"highest-penalty\",\"null\",170000,ax,\"o\",\"r\")\n",
    "    ax = plotUpperLvl(instance,\"BTO-g\",\"highest-penalty\",\"null\",170000,ax,\"o\",\"g\")\n",
    "    ax = plotUpperLvl(instance,\"ideal\",\"highest-penalty\",\"null\",170000,ax,\"o\",\"k\")\n",
    "    ax = plotUpperLvl(instance,\"PMP\",\"highest-penalty\",\"null\",170000,ax,\"o\",\"c\")\n",
    "\n",
    "    #ax = plotUpperLvl(\"large-tol0.4\",\"pareto\",\"highest-mips\",\"null\",120000,ax,\"x\",\"y\")\n",
    "    ax = plotUpperLvl(instance,\"nash\",\"highest-mips\",\"null\",170000,ax,\"x\",\"b\")\n",
    "    ax = plotUpperLvl(instance,\"BTO-d\",\"highest-mips\",\"null\",170000,ax,\"x\",\"r\")\n",
    "    ax = plotUpperLvl(instance,\"BTO-g\",\"highest-mips\",\"null\",170000,ax,\"x\",\"g\")\n",
    "    ax = plotUpperLvl(instance,\"ideal\",\"highest-mips\",\"null\",170000,ax,\"x\",\"k\")\n",
    "    ax = plotUpperLvl(instance,\"PMP\",\"highest-mips\",\"null\",170000,ax,\"x\",\"c\")\n",
    "\n",
    "    #ax = plotUpperLvl(\"large-tol0.4\",\"pareto\",\"lowest-deadline\",\"null\",120000,ax,\"*\",\"y\")\n",
    "    ax = plotUpperLvl(instance,\"nash\",\"lowest-deadline\",\"null\",170000,ax,\"*\",\"b\")\n",
    "    ax = plotUpperLvl(instance,\"BTO-d\",\"lowest-deadline\",\"null\",170000,ax,\"*\",\"r\")\n",
    "    ax = plotUpperLvl(instance,\"BTO-g\",\"lowest-deadline\",\"null\",170000,ax,\"*\",\"g\")\n",
    "    ax = plotUpperLvl(instance,\"ideal\",\"lowest-deadline\",\"null\",170000,ax,\"*\",\"k\")\n",
    "    ax = plotUpperLvl(instance,\"PMP\",\"lowest-deadline\",\"null\",170000,ax,\"*\",\"c\")\n",
    "\n",
    "\n",
    "    ax.legend(loc='best', bbox_to_anchor=(1,1))\n",
    "    ax.set_xlabel('dcCost ($) ')\n",
    "    ax.set_ylabel('WATTS')\n",
    "\n",
    "showHeu('medium-tol1')\n",
    "showHeu('medium-tol0.8')\n",
    "showHeu('medium-tol0.4')\n",
    "\n",
    "    \n",
    "    \n",
    "    "
   ]
  },
  {
   "cell_type": "code",
   "execution_count": null,
   "metadata": {},
   "outputs": [],
   "source": [
    "fig, ax = plt.subplots()\n",
    "ax = plotUpperLvl(\"large-tol0.8\",\"pareto\",\"highest-penalty\",\"null\",2000000,ax,\"o\",\"y\")\n",
    "ax = plotUpperLvl(\"large-tol0.8\",\"nash\",\"highest-penalty\",\"null\",2000000,ax,\"o\",\"b\")\n",
    "ax = plotUpperLvl(\"large-tol0.8\",\"BTO-d\",\"highest-penalty\",\"null\",2000000,ax,\"o\",\"r\")\n",
    "ax = plotUpperLvl(\"large-tol0.8\",\"BTO-g\",\"highest-penalty\",\"null\",2000000,ax,\"o\",\"g\")\n",
    "ax = plotUpperLvl(\"large-tol0.8\",\"ideal\",\"highest-penalty\",\"null\",2000000,ax,\"x\",\"k\")\n",
    "ax = plotUpperLvl(\"large-tol0.8\",\"PMP\",\"highest-penalty\",\"null\",2000000,ax,\"o\",\"c\")\n",
    "\n",
    "ax.legend(loc='best', bbox_to_anchor=(1,1))\n",
    "ax.set_xlabel('dcCost ($) ')\n",
    "ax.set_ylabel('WATTS')\n"
   ]
  },
  {
   "cell_type": "code",
   "execution_count": null,
   "metadata": {},
   "outputs": [],
   "source": [
    "fig, ax = plt.subplots()\n",
    "ax = plotUpperLvl(\"medium-tol1\",\"pareto\",\"highest-penalty\",\"null\",2000000,ax,\"o\",\"y\")\n",
    "ax = plotUpperLvl(\"medium-tol1\",\"nash\",\"highest-penalty\",\"null\",2000000,ax,\"o\",\"b\")\n",
    "ax = plotUpperLvl(\"medium-tol1\",\"BTO-d\",\"highest-penalty\",\"null\",2000000,ax,\"o\",\"r\")\n",
    "ax = plotUpperLvl(\"medium-tol1\",\"BTO-g\",\"highest-penalty\",\"null\",2000000,ax,\"o\",\"g\")\n",
    "ax = plotUpperLvl(\"medium-tol1\",\"ideal\",\"highest-penalty\",\"null\",2000000,ax,\"x\",\"k\")\n",
    "ax = plotUpperLvl(\"medium-tol1\",\"PMP\",\"highest-penalty\",\"null\",2000000,ax,\"o\",\"c\")\n",
    "\n",
    "ax.legend(loc='best', bbox_to_anchor=(1,1))\n",
    "ax.set_xlabel('dcCost ($) ')\n",
    "ax.set_ylabel('WATTS')"
   ]
  },
  {
   "cell_type": "code",
   "execution_count": null,
   "metadata": {},
   "outputs": [],
   "source": [
    "fig, ax = plt.subplots()\n",
    "ax = plotUpperLvl(\"large-tol0.8\",\"pareto\",\"highest-penalty\",\"null\",2000000,ax,\"o\",\"y\")\n",
    "ax = plotUpperLvl(\"large-tol0.8\",\"pareto\",\"highest-mips\",\"null\",2000000,ax,\"o\",\"b\")\n",
    "ax = plotUpperLvl(\"large-tol0.8\",\"pareto\",\"highest-deadline\",\"null\",2000000,ax,\"o\",\"r\")\n",
    "#ax = plotUpperLvl(\"large-tol0.8\",\"pareto\",\"\",\"null\",2000000,ax,\"o\",\"y\")\n",
    "\n",
    "\n",
    "ax.legend(loc='best', bbox_to_anchor=(1,1))\n",
    "ax.set_xlabel('dcCost ($) ')\n",
    "ax.set_ylabel('WATTS')"
   ]
  },
  {
   "cell_type": "code",
   "execution_count": null,
   "metadata": {},
   "outputs": [],
   "source": [
    "fig, ax = plt.subplots()\n",
    "ax = plotUpperLvl(\"large-tol0.8\",\"pareto\",\"highest-penalty\",\"null\",30000,ax,\"o\",\"y\")\n",
    "ax = plotUpperLvl(\"large-tol0.8\",\"pareto\",\"highest-mips\",\"null\",30000,ax,\"o\",\"b\")\n",
    "ax = plotUpperLvl(\"large-tol0.8\",\"pareto\",\"highest-deadline\",\"null\",30000,ax,\"o\",\"r\")\n",
    "#ax = plotUpperLvl(\"large-tol0.8\",\"pareto\",\"\",\"null\",2000000,ax,\"o\",\"y\")\n",
    "\n",
    "\n",
    "ax.legend(loc='best', bbox_to_anchor=(1,1))\n",
    "ax.set_xlabel('dcCost ($) ')\n",
    "ax.set_ylabel('WATTS')"
   ]
  },
  {
   "cell_type": "code",
   "execution_count": null,
   "metadata": {},
   "outputs": [],
   "source": []
  }
 ],
 "metadata": {
  "kernelspec": {
   "display_name": "Python 3",
   "language": "python",
   "name": "python3"
  },
  "language_info": {
   "codemirror_mode": {
    "name": "ipython",
    "version": 3
   },
   "file_extension": ".py",
   "mimetype": "text/x-python",
   "name": "python",
   "nbconvert_exporter": "python",
   "pygments_lexer": "ipython3",
   "version": "3.7.3"
  }
 },
 "nbformat": 4,
 "nbformat_minor": 2
}
