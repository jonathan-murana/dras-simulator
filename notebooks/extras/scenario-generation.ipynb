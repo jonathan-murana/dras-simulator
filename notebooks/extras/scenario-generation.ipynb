{
 "cells": [
  {
   "cell_type": "markdown",
   "metadata": {},
   "source": [
    "# DRAS scenario generation\n"
   ]
  },
  {
   "cell_type": "markdown",
   "metadata": {},
   "source": [
    "### library importation, constant definition and data loading from files"
   ]
  },
  {
   "cell_type": "markdown",
   "metadata": {},
   "source": [
    "The next cell defines the imports nedeed to execute the notebook"
   ]
  },
  {
   "cell_type": "code",
   "execution_count": 1,
   "metadata": {},
   "outputs": [
    {
     "name": "stdout",
     "output_type": "stream",
     "text": [
      "Populating the interactive namespace from numpy and matplotlib\n"
     ]
    }
   ],
   "source": [
    "import pandas as pd\n",
    "#!pip install geopandas\n",
    "import geopandas as gpd\n",
    "import matplotlib.pyplot as plt\n",
    "%pylab inline\n",
    "from math import sin, cos, sqrt, atan2, radians\n",
    "pd.set_option('precision', 2)\n",
    "from functools import reduce\n",
    "import os\n",
    "from operator import truediv\n",
    "from mpl_toolkits.mplot3d import Axes3D  # noqa: F401 unused import\n",
    "\n",
    "import matplotlib.pyplot as plt\n",
    "import numpy as np\n"
   ]
  },
  {
   "cell_type": "markdown",
   "metadata": {},
   "source": [
    "The next cell defines the contanst used by the procedures bellow\n"
   ]
  },
  {
   "cell_type": "code",
   "execution_count": 2,
   "metadata": {},
   "outputs": [],
   "source": [
    "instance_dir = '/home/jmurana/code/jMetal/dras-controller/instances/'\n",
    "\n",
    "ins_file = 'ins'\n",
    "ref_file = 'ref'\n",
    "w_file = 'w'\n",
    "\n",
    "\n",
    "\n",
    "\n"
   ]
  },
  {
   "cell_type": "markdown",
   "metadata": {},
   "source": [
    "INS   \n",
    "1 5 // client-number server-number  \n",
    "5 0.5 0.5 1 1 // client-server-number PAND PAD CRND CND  \n",
    "800 20 1 // schedule-duration interval-number kw-dolar  "
   ]
  },
  {
   "cell_type": "markdown",
   "metadata": {},
   "source": [
    "# example2\n",
    "\n"
   ]
  },
  {
   "cell_type": "code",
   "execution_count": 3,
   "metadata": {},
   "outputs": [],
   "source": [
    "example = 'example2'\n",
    "numpy.random.seed(seed=111)"
   ]
  },
  {
   "cell_type": "markdown",
   "metadata": {},
   "source": [
    "## ins"
   ]
  },
  {
   "cell_type": "code",
   "execution_count": 4,
   "metadata": {},
   "outputs": [],
   "source": [
    "C = 1\n",
    "R = 80\n",
    "schedule_duration  = 3600\n",
    "K = 60\n",
    "file_name = instance_dir + example + '/'+  ins_file\n",
    " \n",
    "d = {'C': [C], 'R': [R]}\n",
    "first = pd.DataFrame(data=d)\n",
    "first_name = file_name + \"_tmp1\"\n",
    "first.to_csv(first_name, sep=' ', encoding='utf-8', index=False, header=False)\n",
    "\n",
    "d = {'RN': [int(R/C) for i in range(C)], \n",
    "     'PAND': [0.5 for i in range(C)],\n",
    "     'PAD': [0.5 for i in range(C)],\n",
    "     'CRND': [1 for i in range(C)], \n",
    "     'CRD': [1 for i in range(C)]}\n",
    "second = pd.DataFrame(data=d)\n",
    " \n",
    "second_name = file_name + \"_tmp2\"\n",
    "second.to_csv(second_name, sep=' ', encoding='utf-8', index=False, header=False)\n",
    "\n",
    "d = {'schedule_duration': [schedule_duration],\n",
    "     'K': [K],\n",
    "     'kwdolar': [0]\n",
    "    }\n",
    "third = pd.DataFrame(data=d)\n",
    "third_name = file_name + \"_tmp3\"\n",
    "third.to_csv(third_name, sep=' ', encoding='utf-8', index=False, header=False)\n",
    "\n",
    "filenames = [first_name,second_name,third_name]\n",
    "with open(file_name, 'w') as outfile:\n",
    "    for fname in filenames:    \n",
    "        with open(fname) as infile:\n",
    "            for line in infile:\n",
    "                outfile.write(line)\n",
    "        os.remove(fname)\n",
    "        "
   ]
  },
  {
   "cell_type": "markdown",
   "metadata": {},
   "source": [
    "## ref"
   ]
  },
  {
   "cell_type": "code",
   "execution_count": 5,
   "metadata": {},
   "outputs": [],
   "source": [
    "ref_value= 10168 + 9 + 117 + 24\n",
    "file_name = instance_dir + example + '/'+  ref_file\n",
    "\n",
    "d = {'RN': [ref_value for i in range(K * R)]}\n",
    "first = pd.DataFrame(data=d)\n",
    "first = first.T\n",
    "first.to_csv(first_name, sep=' ', encoding='utf-8', index=False, header=False)\n",
    "\n",
    "filenames = [first_name]\n",
    "with open(file_name, 'w') as outfile:\n",
    "    for fname in filenames:    \n",
    "        with open(fname) as infile:\n",
    "            for line in infile:\n",
    "                outfile.write(line)\n",
    "        os.remove(fname)\n"
   ]
  },
  {
   "cell_type": "markdown",
   "metadata": {},
   "source": [
    "## w\n",
    "\n",
    "0 2000000 0 700 1 5 0 // clientId mips arriveTime deadline deferable loss type  "
   ]
  },
  {
   "cell_type": "code",
   "execution_count": 8,
   "metadata": {},
   "outputs": [
    {
     "name": "stdout",
     "output_type": "stream",
     "text": [
      "1000000\n",
      "1000000\n"
     ]
    }
   ],
   "source": [
    "numpy.random.seed(seed=111)\n",
    "server_mips = 1000 # TODO: must be included to inscence file\n",
    "\n",
    "W = 5000\n",
    "low_mips = 20000\n",
    "high_mips = 200000 * 2\n",
    "low_arriveTime = 0\n",
    "low_deadline = high_mips/server_mips + 3600 \n",
    "low_deadline = 1000000\n",
    "high_deadline = low_deadline * 2\n",
    "high_deadline = 1000000\n",
    "high_arriveTime = 3600  - 800 \n",
    "\n",
    "print(low_deadline)\n",
    "print(high_deadline)\n",
    "\n",
    "\n",
    "low_loss = 1\n",
    "high_loss = 1\n",
    "file_name = instance_dir + example + '/'+  w_file\n",
    "\n",
    "def create_workload(clientId):\n",
    "    file_name_client = file_name + str(clientId)\n",
    "    \n",
    "    d = {'W': [W]}\n",
    "    first = pd.DataFrame(data=d)\n",
    "    first_name = file_name_client + \"_tmp1\"\n",
    "    first.to_csv(first_name, sep=' ', encoding='utf-8', index=False, header=False)\n",
    "\n",
    "\n",
    "    d = {'clientId': [clientId for i in range(W)], \n",
    "         'mips': numpy.random.randint(low_mips, high_mips + 1, size=W),\n",
    "         'arriveTime': numpy.random.randint(low_arriveTime, \n",
    "                                      high_arriveTime + 1, size=W),\n",
    "         'deadline': numpy.random.randint(low_deadline, \n",
    "                                      high_deadline + 1, size=W), \n",
    "         'deferable': [1 for i in range(W)],\n",
    "         'loss':  numpy.random.randint(low_loss, \n",
    "                                      high_loss + 1, size=W),\n",
    "         'type': numpy.random.randint(0, \n",
    "                                      1 + 1, size=W)    \n",
    "        }\n",
    "    second = pd.DataFrame(data=d) \n",
    "    second_name = file_name_client + \"_tmp2\"\n",
    "    second.to_csv(second_name, sep=' ', encoding='utf-8', index=False, header=False)\n",
    "\n",
    "    filenames = [first_name,second_name]\n",
    "    with open(file_name_client, 'w') as outfile:\n",
    "        for fname in filenames:    \n",
    "            with open(fname) as infile:\n",
    "                for line in infile:\n",
    "                    outfile.write(line)\n",
    "            os.remove(fname)\n",
    "   \n",
    "for i in range(C):\n",
    "    create_workload(0)\n"
   ]
  },
  {
   "cell_type": "code",
   "execution_count": null,
   "metadata": {},
   "outputs": [],
   "source": [
    "\n"
   ]
  },
  {
   "cell_type": "code",
   "execution_count": null,
   "metadata": {},
   "outputs": [],
   "source": []
  }
 ],
 "metadata": {
  "kernelspec": {
   "display_name": "Python 3",
   "language": "python",
   "name": "python3"
  },
  "language_info": {
   "codemirror_mode": {
    "name": "ipython",
    "version": 3
   },
   "file_extension": ".py",
   "mimetype": "text/x-python",
   "name": "python",
   "nbconvert_exporter": "python",
   "pygments_lexer": "ipython3",
   "version": "3.7.3"
  }
 },
 "nbformat": 4,
 "nbformat_minor": 2
}
