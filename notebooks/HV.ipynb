{
 "cells": [
  {
   "cell_type": "markdown",
   "metadata": {},
   "source": [
    "# Report 1\n"
   ]
  },
  {
   "cell_type": "markdown",
   "metadata": {},
   "source": [
    "### library importation, constant definition and data loading from files"
   ]
  },
  {
   "cell_type": "markdown",
   "metadata": {},
   "source": [
    "The next cell defines the imports nedeed to execute the notebook"
   ]
  },
  {
   "cell_type": "code",
   "execution_count": 1,
   "metadata": {},
   "outputs": [
    {
     "name": "stdout",
     "output_type": "stream",
     "text": [
      "Populating the interactive namespace from numpy and matplotlib\n"
     ]
    }
   ],
   "source": [
    "\n",
    "import pandas as pd\n",
    "import matplotlib.pyplot as plt\n",
    "%pylab inline\n",
    "from math import sin, cos, sqrt, atan2, radians\n",
    "pd.set_option('precision', 5)\n",
    "from functools import reduce\n",
    "import os\n",
    "from operator import truediv\n",
    "from mpl_toolkits.mplot3d import Axes3D  # noqa: F401 unused import\n",
    "\n",
    "import matplotlib.pyplot as plt\n",
    "import numpy as np\n",
    "\n",
    "import os\n",
    "import sys\n",
    "module_path = os.path.abspath(os.path.join('.'))\n",
    "if module_path not in sys.path:\n",
    "    sys.path.append(module_path)\n",
    "import pareto\n",
    "from hv import HyperVolume\n",
    "pd.reset_option('display.float_format')\n",
    "pd.options.display.float_format = '{:.3f}'.format\n",
    "\n"
   ]
  },
  {
   "cell_type": "markdown",
   "metadata": {},
   "source": [
    "The next cell defines the contanst used by the procedures bellow\n"
   ]
  },
  {
   "cell_type": "code",
   "execution_count": 2,
   "metadata": {},
   "outputs": [],
   "source": [
    "report1_dir = '../dras-controller/paretos/'\n",
    "output_tex = '../dras-controller/output_tex/'\n",
    "\n",
    "def print_full(x):\n",
    "    pd.set_option('display.max_rows', len(x))\n",
    "    display(x)\n",
    "    #print(x.to_latex(index=False)) \n",
    "    pd.reset_option('display.max_rows')"
   ]
  },
  {
   "cell_type": "markdown",
   "metadata": {},
   "source": [
    "\n"
   ]
  },
  {
   "cell_type": "markdown",
   "metadata": {},
   "source": [
    "# plot client function\n",
    "\n",
    "the scenarios are generated from swf files\n",
    "\n"
   ]
  },
  {
   "cell_type": "markdown",
   "metadata": {},
   "source": [
    "procesar pareto"
   ]
  },
  {
   "cell_type": "code",
   "execution_count": 19,
   "metadata": {},
   "outputs": [],
   "source": [
    "\n",
    "def plotUpperLvl(pattern1):    \n",
    "    data = pd.DataFrame()\n",
    "    for filename in [f for f in os.listdir(report1_dir +'/') if (pattern1 in f)]:\n",
    "        data1 = pd.read_csv(report1_dir +'/' +filename, header=None,sep='\\t',skiprows=0,)\n",
    "        #display(data)\n",
    "\n",
    "        data1.columns = ['x','y']\n",
    "        #data.x = data.x*-1\n",
    "        data1.y = data1.y*-1\n",
    "\n",
    "        data1 = data1.round(4)\n",
    "        #data = pd.append(data,data1)\n",
    "        data = data.append(data1) \n",
    "        #ax.scatter(data['x'], data['y'], label=filename,marker=mark,color=color)\n",
    "\n",
    "        \n",
    "    return data \n"
   ]
  },
  {
   "cell_type": "code",
   "execution_count": 20,
   "metadata": {},
   "outputs": [],
   "source": [
    "def hv(data):\n",
    "    \n",
    "    \n",
    "    Row_list =[] \n",
    "    for index, rows in data.iterrows(): \n",
    "        my_list =[rows.x, rows.y]\n",
    "        Row_list.append(my_list) \n",
    "#-max(cost),min(reduction)\n",
    "    front = Row_list\n",
    "    #print(data.x.max(), data.y.max())\n",
    "    referencePoint = [data.x.max(), data.y.max()]\n",
    "    hv = HyperVolume(referencePoint)\n",
    "    volume = hv.compute(front)\n",
    "    return volume"
   ]
  },
  {
   "cell_type": "code",
   "execution_count": 22,
   "metadata": {},
   "outputs": [
    {
     "name": "stdout",
     "output_type": "stream",
     "text": [
      "42645.3\n",
      "10669.5\n",
      "DRD-5-0-0-HM-1\n",
      "                       n    hv\n",
      "0   pHPFd-DRD-6-2-2-HT-1 0.687\n",
      "1   pHPFg-DRD-6-2-2-HT-1 0.497\n",
      "2   pLLFd-DRD-6-2-2-HT-1 0.023\n",
      "3   pLLFg-DRD-6-2-2-HT-1 0.004\n",
      "4   pHDFd-DRD-6-2-2-HT-1 0.019\n",
      "5   pHDFg-DRD-6-2-2-HT-1 0.003\n",
      "6   pHPFd-DRD-5-0-0-HM-1 0.600\n",
      "7   pHPFg-DRD-5-0-0-HM-1 0.355\n",
      "8   pLLFd-DRD-5-0-0-HM-1 0.032\n",
      "9   pLLFg-DRD-5-0-0-HM-1 0.001\n",
      "10  pHDFd-DRD-5-0-0-HM-1 0.040\n",
      "11  pHDFg-DRD-5-0-0-HM-1 0.002\n"
     ]
    },
    {
     "data": {
      "text/plain": [
       "<matplotlib.collections.PathCollection at 0x7fe429d72748>"
      ]
     },
     "execution_count": 22,
     "metadata": {},
     "output_type": "execute_result"
    },
    {
     "data": {
      "image/png": "[encoded data removed]",
      "text/plain": [
       "<Figure size 432x288 with 1 Axes>"
      ]
     },
     "metadata": {
      "needs_background": "light"
     },
     "output_type": "display_data"
    }
   ],
   "source": [
    "n = ['pHPFd-DRD-6-2-2-HT-1',\n",
    "     'pHPFg-DRD-6-2-2-HT-1',\n",
    "     'pLLFd-DRD-6-2-2-HT-1',\n",
    "     'pLLFg-DRD-6-2-2-HT-1',\n",
    "     'pHDFd-DRD-6-2-2-HT-1',\n",
    "     'pHDFg-DRD-6-2-2-HT-1',\n",
    "     'pHPFd-DRD-5-0-0-HM-1',\n",
    "     'pHPFg-DRD-5-0-0-HM-1',\n",
    "     'pLLFd-DRD-5-0-0-HM-1',\n",
    "     'pLLFg-DRD-5-0-0-HM-1',\n",
    "     'pHDFd-DRD-5-0-0-HM-1',\n",
    "     'pHDFg-DRD-5-0-0-HM-1',\n",
    "    ]\n",
    "print( plotUpperLvl(n[0]).x.max())\n",
    "print( plotUpperLvl(n[6][6:]).x.max())\n",
    "print(n[6][6:])\n",
    "\n",
    "hvs = pd.DataFrame(n, columns =['n']) \n",
    "hvs['hv'] = hvs.apply(lambda e: -1*hv( plotUpperLvl(e.n))\n",
    "                                  /(plotUpperLvl(e.n[6:]).x.max()*plotUpperLvl(e.n[6:]).y.min())\n",
    "                      ,axis = 1)\n",
    "print(hvs)\n",
    "\n",
    "data = plotUpperLvl('pLLFd-DRD-6-2-2-HT-1')\n",
    "#hvs['v'] = hv(\n",
    "\n",
    "fig, ax = plt.subplots()\n",
    "ax.scatter(data['x'], data['y'])\n",
    "ax.scatter(data['x'].max(), data['y'].max(),color='r')\n",
    "\n",
    "#display(data)\n",
    "\n",
    "#'pHPFg-DRD-6-2-2-HT-1',hv(plotUpperLvl(\"pHPFd-DRD-6-2-2-HT-1\")).round(1)\n",
    "#'pLLFd-DRD-6-2-2-HT-1',hv(plotUpperLvl(\"pHPFd-DRD-6-2-2-HT-1\")).round(1)\n",
    "#'pLLFg-DRD-6-2-2-HT-1',hv(plotUpperLvl(\"pHPFd-DRD-6-2-2-HT-1\")).round(1)\n",
    "#'pHDFd-DRD-6-2-2-HT-1',hv(plotUpperLvl(\"pHPFd-DRD-6-2-2-HT-1\")).round(1)\n",
    "#'pHDFg-DRD-6-2-2-HT-1',hv(plotUpperLvl(\"pHPFd-DRD-6-2-2-HT-1\")).round(1)\n"
   ]
  },
  {
   "cell_type": "code",
   "execution_count": null,
   "metadata": {},
   "outputs": [],
   "source": []
  },
  {
   "cell_type": "code",
   "execution_count": null,
   "metadata": {},
   "outputs": [],
   "source": []
  },
  {
   "cell_type": "code",
   "execution_count": null,
   "metadata": {},
   "outputs": [],
   "source": []
  },
  {
   "cell_type": "code",
   "execution_count": null,
   "metadata": {},
   "outputs": [],
   "source": []
  },
  {
   "cell_type": "code",
   "execution_count": null,
   "metadata": {},
   "outputs": [],
   "source": []
  }
 ],
 "metadata": {
  "kernelspec": {
   "display_name": "Python 3",
   "language": "python",
   "name": "python3"
  },
  "language_info": {
   "codemirror_mode": {
    "name": "ipython",
    "version": 3
   },
   "file_extension": ".py",
   "mimetype": "text/x-python",
   "name": "python",
   "nbconvert_exporter": "python",
   "pygments_lexer": "ipython3",
   "version": "3.7.3"
  }
 },
 "nbformat": 4,
 "nbformat_minor": 2
}
