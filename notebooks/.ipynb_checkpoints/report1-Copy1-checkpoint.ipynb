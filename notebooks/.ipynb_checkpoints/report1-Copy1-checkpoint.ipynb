{
 "cells": [
  {
   "cell_type": "markdown",
   "metadata": {},
   "source": [
    "# Report 1\n"
   ]
  },
  {
   "cell_type": "markdown",
   "metadata": {},
   "source": [
    "### library importation, constant definition and data loading from files"
   ]
  },
  {
   "cell_type": "markdown",
   "metadata": {},
   "source": [
    "The next cell defines the imports nedeed to execute the notebook"
   ]
  },
  {
   "cell_type": "code",
   "execution_count": 2,
   "metadata": {},
   "outputs": [
    {
     "name": "stdout",
     "output_type": "stream",
     "text": [
      "Populating the interactive namespace from numpy and matplotlib\n"
     ]
    }
   ],
   "source": [
    "import pandas as pd\n",
    "#!pip install geopandas\n",
    "import geopandas as gpd\n",
    "import matplotlib.pyplot as plt\n",
    "%pylab inline\n",
    "from math import sin, cos, sqrt, atan2, radians\n",
    "pd.set_option('precision', 5)\n",
    "from functools import reduce\n",
    "import os\n",
    "from operator import truediv\n",
    "from mpl_toolkits.mplot3d import Axes3D  # noqa: F401 unused import\n",
    "\n",
    "import matplotlib.pyplot as plt\n",
    "import numpy as np\n",
    "\n",
    "import os\n",
    "import sys\n",
    "module_path = os.path.abspath(os.path.join('.'))\n",
    "if module_path not in sys.path:\n",
    "    sys.path.append(module_path)\n",
    "import pareto\n"
   ]
  },
  {
   "cell_type": "markdown",
   "metadata": {},
   "source": [
    "The next cell defines the contanst used by the procedures bellow\n"
   ]
  },
  {
   "cell_type": "code",
   "execution_count": 3,
   "metadata": {},
   "outputs": [],
   "source": [
    "report1_dir = '../dras-controller/output/'\n",
    "output_tex = '../dras-controller/output_tex/'\n",
    "\n",
    "def print_full(x):\n",
    "    pd.set_option('display.max_rows', len(x))\n",
    "    display(x)\n",
    "    #print(x.to_latex(index=False)) \n",
    "    pd.reset_option('display.max_rows')"
   ]
  },
  {
   "cell_type": "markdown",
   "metadata": {},
   "source": [
    "\n"
   ]
  },
  {
   "cell_type": "markdown",
   "metadata": {},
   "source": [
    "# plot client function\n",
    "\n",
    "the scenarios are generated from swf files\n",
    "\n"
   ]
  },
  {
   "cell_type": "code",
   "execution_count": 4,
   "metadata": {
    "scrolled": true
   },
   "outputs": [],
   "source": [
    "def identify_pareto(scores):\n",
    "    # Count number of items\n",
    "    population_size = scores.shape[0]\n",
    "    # Create a NumPy index for scores on the pareto front (zero indexed)\n",
    "    population_ids = np.arange(population_size)\n",
    "    # Create a starting list of items on the Pareto front\n",
    "    # All items start off as being labelled as on the Parteo front\n",
    "    pareto_front = np.ones(population_size, dtype=bool)\n",
    "    # Loop through each item. This will then be compared with all other items\n",
    "    for i in range(population_size):\n",
    "        # Loop through all other items\n",
    "        for j in range(population_size):\n",
    "            # Check if our 'i' pint is dominated by out 'j' point\n",
    "            if all(scores[j] >= scores[i]) and any(scores[j] > scores[i]):\n",
    "                # j dominates i. Label 'i' point as not on Pareto front\n",
    "                pareto_front[i] = 0\n",
    "                # Stop further comparisons with 'i' (no more comparisons needed)\n",
    "                break\n",
    "    # Return ids of scenarios on pareto front\n",
    "    return population_ids[pareto_front]"
   ]
  },
  {
   "cell_type": "code",
   "execution_count": 5,
   "metadata": {},
   "outputs": [
    {
     "ename": "SyntaxError",
     "evalue": "invalid syntax (<ipython-input-5-84b3c88258a2>, line 3)",
     "output_type": "error",
     "traceback": [
      "\u001b[0;36m  File \u001b[0;32m\"<ipython-input-5-84b3c88258a2>\"\u001b[0;36m, line \u001b[0;32m3\u001b[0m\n\u001b[0;31m    \"\"\" Find the pareto-efficient points :param costs: An (n_points, n_costs) array :param return_mask: True to return a mask :return: An array of indices of pareto-efficient points. If return_mask is True, this will be an (n_points, ) boolean array Otherwise it will be a (n_efficient_points, ) integer array of indices. \"\"\" is_efficient = np.arange(costs.shape[0]) n_points = costs.shape[0] next_point_index = 0 # Next index in the is_efficient array to search for while next_point_index<len(costs): nondominated_point_mask = np.any(costs<costs[next_point_index], axis=1) nondominated_point_mask[next_point_index] = True is_efficient = is_efficient[nondominated_point_mask] # Remove dominated points costs = costs[nondominated_point_mask] next_point_index = np.sum(nondominated_point_mask[:next_point_index])+1 if return_mask: is_efficient_mask = np.zeros(n_points, dtype = bool) is_efficient_mask[is_efficient] = True return is_efficient_mask else: return is_efficient\u001b[0m\n\u001b[0m                                                                                                                                                                                                                                                                                                                                                 ^\u001b[0m\n\u001b[0;31mSyntaxError\u001b[0m\u001b[0;31m:\u001b[0m invalid syntax\n"
     ]
    }
   ],
   "source": [
    "# Faster than is_pareto_efficient_simple, but less readable. \n",
    "def is_pareto_efficient(costs, return_mask = True): \n",
    "    \"\"\" Find the pareto-efficient points :param costs: An (n_points, n_costs) array :param return_mask: True to return a mask :return: An array of indices of pareto-efficient points. If return_mask is True, this will be an (n_points, ) boolean array Otherwise it will be a (n_efficient_points, ) integer array of indices. \"\"\" is_efficient = np.arange(costs.shape[0]) n_points = costs.shape[0] next_point_index = 0 # Next index in the is_efficient array to search for while next_point_index<len(costs): nondominated_point_mask = np.any(costs<costs[next_point_index], axis=1) nondominated_point_mask[next_point_index] = True is_efficient = is_efficient[nondominated_point_mask] # Remove dominated points costs = costs[nondominated_point_mask] next_point_index = np.sum(nondominated_point_mask[:next_point_index])+1 if return_mask: is_efficient_mask = np.zeros(n_points, dtype = bool) is_efficient_mask[is_efficient] = True return is_efficient_mask else: return is_efficient"
   ]
  },
  {
   "cell_type": "markdown",
   "metadata": {},
   "source": [
    "procesar pareto"
   ]
  },
  {
   "cell_type": "code",
   "execution_count": null,
   "metadata": {},
   "outputs": [],
   "source": [
    "def procesarPareto(pattern1,pattern2,pattern3,lesspattern,upper_offer,ax,color):    \n",
    "    \n",
    "    for filename in [f for f in os.listdir(report1_dir +'/') if (pattern1 in f \n",
    "                                                                 and pattern2 in f\n",
    "                                                                 and pattern3 in f\n",
    "                                                                 and not lesspattern in f and \".FUN\" in f)]:\n",
    "        data = pd.read_csv(report1_dir +'/' +filename, header=None,sep=' ',skiprows=0,)\n",
    "        data.columns = [\n",
    "            'i','offer ($)', 'clients reduction (W)','motor','err','dcCost','socialCost','#V','VT']\n",
    "\n",
    "        data1 = data[['clients reduction (W)','dcCost']]\n",
    "       \n",
    "        #data = data[data['dcCost']<upper_offer]\n",
    "        \n",
    "        #ax.scatter(data['dcCost'], data['clients reduction (W)'], label=filename,marker=mark,color=color)\n",
    "        data=data1\n",
    "        data['clients reduction (W)'] = data['clients reduction (W)'].astype(float)\n",
    "        data['clients reduction (W)'] = data['clients reduction (W)'] * -1\n",
    "\n",
    "        nondominated = pareto.eps_sort([list(data.itertuples(False))], [0,1])\n",
    "        #nondominated['clients reduction (W)'] = nondominated['clients reduction (W)'] * -1\n",
    "        nondominated\n",
    "\n",
    "        data2 = pd.DataFrame(data=nondominated,columns=['r','c'])  # 1st row as the column names\n",
    "        data2['r'] = data2['r'] *-1\n",
    "    return data2 \n",
    "\n",
    "fig, ax = plt.subplots()\n",
    "\n",
    "data1 = procesarPareto(\"DRD-6-2-2-het\",\"highest-penalty\",\"pareto-dist\",\"null\",2000000,1,\"*\")\n",
    "ax.scatter(data['c'], data['r'], label=\"pareto\",color= 'b')\n",
    "data1['p'] = 'pHPFd\\\\\\\\'\n",
    "data= data1.copy()\n",
    "data1 = procesarPareto(\"DRD-6-2-2-het\",\"highest-penalty\",\"pareto-global\",\"null\",2000000,1,\"*\")\n",
    "data1['p'] = 'pHPFg\\\\\\\\'\n",
    "data = data.append(data1)\n",
    "data1 = procesarPareto(\"DRD-6-2-2-het\",\"highest-mips\",\"pareto-dist\",\"null\",2000000,1,\"*\")\n",
    "data1['p'] = 'pLLFd\\\\\\\\'\n",
    "data = data.append(data1)\n",
    "data1 = procesarPareto(\"DRD-6-2-2-het\",\"highest-mips\",\"pareto-global\",\"null\",2000000,1,\"*\")\n",
    "data1['p'] = 'pLLFg\\\\\\\\'\n",
    "data = data.append(data1)\n",
    "data1 = procesarPareto(\"DRD-6-2-2-het\",\"highest-deadline\",\"pareto-dist\",\"null\",2000000,1,\"*\")\n",
    "data1['p'] = 'pHDFd\\\\\\\\'\n",
    "data = data.append(data1)\n",
    "data1 = procesarPareto(\"DRD-6-2-2-het\",\"highest-deadline\",\"pareto-global\",\"null\",2000000,1,\"*\")\n",
    "data['p'] = 'pHDFg\\\\\\\\'\n",
    "data = data.append(data1)\n",
    "print_full(data)\n",
    "\n"
   ]
  },
  {
   "cell_type": "code",
   "execution_count": 29,
   "metadata": {},
   "outputs": [
    {
     "name": "stderr",
     "output_type": "stream",
     "text": [
      "/home/jon/anaconda3/lib/python3.7/site-packages/ipykernel_launcher.py:1: FutureWarning: read_table is deprecated, use read_csv instead, passing sep='\\t'.\n",
      "  \"\"\"Entry point for launching an IPython kernel.\n"
     ]
    },
    {
     "ename": "IndexError",
     "evalue": "list index out of range",
     "output_type": "error",
     "traceback": [
      "\u001b[0;31m---------------------------------------------------------------------------\u001b[0m",
      "\u001b[0;31mIndexError\u001b[0m                                Traceback (most recent call last)",
      "\u001b[0;32m<ipython-input-29-736909f0d2ed>\u001b[0m in \u001b[0;36m<module>\u001b[0;34m\u001b[0m\n\u001b[1;32m      1\u001b[0m \u001b[0mtable\u001b[0m \u001b[0;34m=\u001b[0m \u001b[0mpd\u001b[0m\u001b[0;34m.\u001b[0m\u001b[0mread_table\u001b[0m\u001b[0;34m(\u001b[0m\u001b[0mreport1_dir\u001b[0m\u001b[0;34m+\u001b[0m\u001b[0;34m\"pareto-dist_highest-penalty-first_small-tol1.FUN\"\u001b[0m\u001b[0;34m)\u001b[0m\u001b[0;34m\u001b[0m\u001b[0;34m\u001b[0m\u001b[0m\n\u001b[0;32m----> 2\u001b[0;31m \u001b[0mnondominated\u001b[0m \u001b[0;34m=\u001b[0m \u001b[0mpareto\u001b[0m\u001b[0;34m.\u001b[0m\u001b[0meps_sort\u001b[0m\u001b[0;34m(\u001b[0m\u001b[0;34m[\u001b[0m\u001b[0mlist\u001b[0m\u001b[0;34m(\u001b[0m\u001b[0mtable\u001b[0m\u001b[0;34m.\u001b[0m\u001b[0mitertuples\u001b[0m\u001b[0;34m(\u001b[0m\u001b[0;32mFalse\u001b[0m\u001b[0;34m)\u001b[0m\u001b[0;34m)\u001b[0m\u001b[0;34m]\u001b[0m\u001b[0;34m,\u001b[0m \u001b[0;34m[\u001b[0m\u001b[0;36m3\u001b[0m\u001b[0;34m,\u001b[0m \u001b[0;36m4\u001b[0m\u001b[0;34m,\u001b[0m \u001b[0;36m5\u001b[0m\u001b[0;34m]\u001b[0m\u001b[0;34m,\u001b[0m \u001b[0;34m[\u001b[0m\u001b[0;36m1\u001b[0m\u001b[0;34m,\u001b[0m \u001b[0;36m0.1\u001b[0m\u001b[0;34m,\u001b[0m \u001b[0;36m3\u001b[0m\u001b[0;34m]\u001b[0m\u001b[0;34m)\u001b[0m\u001b[0;34m\u001b[0m\u001b[0;34m\u001b[0m\u001b[0m\n\u001b[0m",
      "\u001b[0;32m~/codes/fse-dras/notebooks/pareto.py\u001b[0m in \u001b[0;36meps_sort\u001b[0;34m(tables, objectives, epsilons, **kwargs)\u001b[0m\n\u001b[1;32m    470\u001b[0m \u001b[0;34m\u001b[0m\u001b[0m\n\u001b[1;32m    471\u001b[0m     \u001b[0;31m# tagalongs is the *raw* data\u001b[0m\u001b[0;34m\u001b[0m\u001b[0;34m\u001b[0m\u001b[0;34m\u001b[0m\u001b[0m\n\u001b[0;32m--> 472\u001b[0;31m     \u001b[0mtagalongs\u001b[0m \u001b[0;34m=\u001b[0m \u001b[0meps_sort_solutions\u001b[0m\u001b[0;34m(\u001b[0m\u001b[0mtables\u001b[0m\u001b[0;34m,\u001b[0m \u001b[0mepsilons\u001b[0m\u001b[0;34m)\u001b[0m\u001b[0;34m\u001b[0m\u001b[0;34m\u001b[0m\u001b[0m\n\u001b[0m\u001b[1;32m    473\u001b[0m \u001b[0;34m\u001b[0m\u001b[0m\n\u001b[1;32m    474\u001b[0m     \u001b[0;32mreturn\u001b[0m \u001b[0mtagalongs\u001b[0m\u001b[0;34m\u001b[0m\u001b[0;34m\u001b[0m\u001b[0m\n",
      "\u001b[0;32m~/codes/fse-dras/notebooks/pareto.py\u001b[0m in \u001b[0;36meps_sort_solutions\u001b[0;34m(tables, epsilons)\u001b[0m\n\u001b[1;32m    481\u001b[0m     \"\"\"\n\u001b[1;32m    482\u001b[0m     \u001b[0;31m# slip the first row off the first table to figure out nobj\u001b[0m\u001b[0;34m\u001b[0m\u001b[0;34m\u001b[0m\u001b[0;34m\u001b[0m\u001b[0m\n\u001b[0;32m--> 483\u001b[0;31m     \u001b[0mobjectives\u001b[0m\u001b[0;34m,\u001b[0m \u001b[0mrow\u001b[0m \u001b[0;34m=\u001b[0m \u001b[0mnext\u001b[0m\u001b[0;34m(\u001b[0m\u001b[0mtables\u001b[0m\u001b[0;34m[\u001b[0m\u001b[0;36m0\u001b[0m\u001b[0;34m]\u001b[0m\u001b[0;34m)\u001b[0m\u001b[0;34m\u001b[0m\u001b[0;34m\u001b[0m\u001b[0m\n\u001b[0m\u001b[1;32m    484\u001b[0m     \u001b[0mtable\u001b[0m \u001b[0;34m=\u001b[0m \u001b[0;34m[\u001b[0m\u001b[0;34m(\u001b[0m\u001b[0mobjectives\u001b[0m\u001b[0;34m,\u001b[0m \u001b[0mrow\u001b[0m\u001b[0;34m)\u001b[0m\u001b[0;34m]\u001b[0m\u001b[0;34m\u001b[0m\u001b[0;34m\u001b[0m\u001b[0m\n\u001b[1;32m    485\u001b[0m     \u001b[0mtables\u001b[0m \u001b[0;34m=\u001b[0m \u001b[0;34m[\u001b[0m\u001b[0mtable\u001b[0m\u001b[0;34m]\u001b[0m \u001b[0;34m+\u001b[0m \u001b[0mtables\u001b[0m\u001b[0;34m\u001b[0m\u001b[0;34m\u001b[0m\u001b[0m\n",
      "\u001b[0;32m~/codes/fse-dras/notebooks/pareto.py\u001b[0m in \u001b[0;36mwithobjectives\u001b[0;34m(annotatedrows, oindices)\u001b[0m\n\u001b[1;32m    563\u001b[0m             \u001b[0mobjectives\u001b[0m \u001b[0;34m=\u001b[0m \u001b[0;34m[\u001b[0m\u001b[0;34m]\u001b[0m\u001b[0;34m\u001b[0m\u001b[0;34m\u001b[0m\u001b[0m\n\u001b[1;32m    564\u001b[0m             \u001b[0;32mfor\u001b[0m \u001b[0moo\u001b[0m \u001b[0;32min\u001b[0m \u001b[0moindices\u001b[0m\u001b[0;34m:\u001b[0m\u001b[0;34m\u001b[0m\u001b[0;34m\u001b[0m\u001b[0m\n\u001b[0;32m--> 565\u001b[0;31m                 \u001b[0mobjectives\u001b[0m\u001b[0;34m.\u001b[0m\u001b[0mappend\u001b[0m\u001b[0;34m(\u001b[0m\u001b[0mfloat\u001b[0m\u001b[0;34m(\u001b[0m\u001b[0mrow\u001b[0m\u001b[0;34m[\u001b[0m\u001b[0moo\u001b[0m\u001b[0;34m]\u001b[0m\u001b[0;34m)\u001b[0m\u001b[0;34m)\u001b[0m\u001b[0;34m\u001b[0m\u001b[0;34m\u001b[0m\u001b[0m\n\u001b[0m\u001b[1;32m    566\u001b[0m             \u001b[0mrow\u001b[0m\u001b[0;34m.\u001b[0m\u001b[0mextend\u001b[0m\u001b[0;34m(\u001b[0m\u001b[0mannot\u001b[0m\u001b[0;34m)\u001b[0m\u001b[0;34m\u001b[0m\u001b[0;34m\u001b[0m\u001b[0m\n\u001b[1;32m    567\u001b[0m             \u001b[0;32myield\u001b[0m \u001b[0mobjectives\u001b[0m\u001b[0;34m,\u001b[0m \u001b[0mrow\u001b[0m\u001b[0;34m\u001b[0m\u001b[0;34m\u001b[0m\u001b[0m\n",
      "\u001b[0;31mIndexError\u001b[0m: list index out of range"
     ]
    }
   ],
   "source": [
    "\n",
    "table = pd.read_table(report1_dir+\"pareto-dist_highest-penalty-first_small-tol1.FUN\")\n",
    "nondominated = pareto.eps_sort([list(table.itertuples(False))], [3, 4, 5], [1, 0.1, 3])\n",
    "\n",
    "\n"
   ]
  },
  {
   "cell_type": "markdown",
   "metadata": {},
   "source": [
    "## negoTiation"
   ]
  },
  {
   "cell_type": "code",
   "execution_count": 4,
   "metadata": {},
   "outputs": [],
   "source": [
    "def plotPareto(pattern1,pattern2,pattern3,lesspattern,upper_offer,ax,color):    \n",
    "       \n",
    "    for filename in [f for f in os.listdir(report1_dir +'/') if (pattern1 in f \n",
    "                                                                 and pattern2 in f\n",
    "                                                                 and pattern3 in f\n",
    "                                                                 and not lesspattern in f and \".FUN\" in f)]:\n",
    "        data = pd.read_csv(report1_dir +'/' +filename, header=None,sep=' ',skiprows=0,)\n",
    "        data.columns = [\n",
    "            'i','offer ($)', 'clients reduction (W)','motor','err','dcCost','socialCost','#V','VT']\n",
    "\n",
    "        data1 = data[['clients reduction (W)','motor','offer ($)','err','dcCost','socialCost']]\n",
    "        data1 = data1.round(4)\n",
    "        #//data1 = data1.set_index('offer ($)')\n",
    "        \n",
    "        data = data[data['dcCost']<upper_offer]\n",
    "        data['offer ($)'] = data['dcCost'] \n",
    "\n",
    "        ax.plot(data['dcCost'], data['clients reduction (W)'], label=filename,color=color)\n",
    "\n",
    "        #print(data1)\n",
    "    return ax \n",
    "\n",
    "\n",
    "def plotUpperLvl(pattern1,pattern2,pattern3,lesspattern,upper_offer,ax,mark,color):    \n",
    "    \n",
    "    for filename in [f for f in os.listdir(report1_dir +'/') if (pattern1 in f \n",
    "                                                                 and pattern2 in f\n",
    "                                                                 and pattern3 in f\n",
    "                                                                 and not lesspattern in f and \".FUN\" in f)]:\n",
    "        data = pd.read_csv(report1_dir +'/' +filename, header=None,sep=' ',skiprows=0,)\n",
    "        data.columns = [\n",
    "            'i','offer ($)', 'clients reduction (W)','motor','err','dcCost','socialCost','#V','VT']\n",
    "\n",
    "        data1 = data[['clients reduction (W)','motor','offer ($)','err','dcCost','socialCost']]\n",
    "        data1 = data1.round(4)\n",
    "        #//data1 = data1.set_index('offer ($)')\n",
    "        \n",
    "        data = data[data['dcCost']<upper_offer]\n",
    "        \n",
    "        ax.scatter(data['dcCost'], data['clients reduction (W)'], label=filename,marker=mark,color=color)\n",
    "\n",
    "        \n",
    "    return ax \n"
   ]
  },
  {
   "cell_type": "code",
   "execution_count": null,
   "metadata": {
    "scrolled": true
   },
   "outputs": [
    {
     "data": {
      "text/html": [
       "<style>div.output_scroll { height: 44em; }</style>"
      ],
      "text/plain": [
       "<IPython.core.display.HTML object>"
      ]
     },
     "metadata": {},
     "output_type": "display_data"
    }
   ],
   "source": [
    "\n",
    "\n",
    "\n",
    "import matplotlib.pyplot as plt\n",
    "%matplotlib inline\n",
    "plt.rcParams[\"figure.figsize\"] = [10, 10]\n",
    "\n",
    "fig, ax = plt.subplots()\n",
    "\n",
    "ax = plotUpperLvl(\"small-tol1\",\"\",\"pareto-dist\",\"null\",2000000,ax,\"*\",\"r\")\n",
    "#ax = plotUpperLvl(\"DRD-3-1-1-het-1\",\"BTO-d\",\"highest-mips-first\",\"null\",2000000,ax,\"x\",\"r\")\n",
    "#ax = plotUpperLvl(\"DRD-3-1-1-het-1\",\"BTO-d\",\"highest-deadline-first\",\"null\",2000000,ax,\"o\",\"r\")\n",
    "#ax = plotUpperLvl(\"DRD-3-1-1-het-1\",\"BTO-g\",\"highest-penalty-first\",\"null\",2000000,ax,\"*\",\"b\")\n",
    "#ax = plotUpperLvl(\"DRD-3-1-1-het-1\",\"BTO-g\",\"highest-mips-first\",\"null\",2000000,ax,\"x\",\"b\")\n",
    "#ax = plotUpperLvl(\"DRD-3-1-1-het-1\",\"BTO-g\",\"highest-deadline-first\",\"null\",2000000,ax,\"o\",\"b\")\n",
    "#ax = plotUpperLvl(\"DRD-3-1-1-het-1\",\"PMP\",\"highest-penalty-first\",\"null\",2000000,ax,\"*\",\"g\")\n",
    "#ax = plotUpperLvl(\"DRD-3-1-1-het-1\",\"PMP\",\"highest-mips-first\",\"null\",2000000,ax,\"x\",\"g\")\n",
    "#ax = plotUpperLvl(\"DRD-3-1-1-het-1\",\"PMP\",\"highest-deadline-first\",\"null\",2000000,ax,\"o\",\"g\")\n",
    "\n",
    "#ax = plotUpperLvl(\"DRD-3-1-1-het-1\",\"nash\",\"highest-penalty-first\",\"null\",2000000,ax,\"*\",\"y\")\n",
    "#ax = plotUpperLvl(\"DRD-3-1-1-het-1\",\"nash\",\"highest-mips-first\",\"null\",2000000,ax,\"x\",\"y\")\n",
    "#ax = plotUpperLvl(\"DRD-3-1-1-het-1\",\"nash\",\"highest-deadline-first\",\"null\",2000000,ax,\"o\",\"y\")\n",
    "\n",
    "#ax = plotUpperLvl(\"DRD-3-1-1-het-1\",\"ideal\",\"\",\"null\",2000000,ax,\"X\",\"k\")\n",
    "\n",
    "ax.legend(loc='best', bbox_to_anchor=(1,1))\n",
    "ax.set_xlabel('dcCost ($) ')\n",
    "ax.set_ylabel('WATTS')\n",
    "from IPython.core.display import display, HTML\n",
    "display(HTML(\"<style>div.output_scroll { height: 44em; }</style>\"))"
   ]
  },
  {
   "cell_type": "code",
   "execution_count": 6,
   "metadata": {
    "scrolled": true
   },
   "outputs": [
    {
     "name": "stderr",
     "output_type": "stream",
     "text": [
      "No handles with labels found to put in legend.\n"
     ]
    },
    {
     "data": {
      "text/plain": [
       "Text(0, 0.5, 'WATTS')"
      ]
     },
     "execution_count": 6,
     "metadata": {},
     "output_type": "execute_result"
    },
    {
     "data": {
      "image/png": "[encoded data removed]",
      "text/plain": [
       "<Figure size 1080x1080 with 1 Axes>"
      ]
     },
     "metadata": {
      "needs_background": "light"
     },
     "output_type": "display_data"
    }
   ],
   "source": [
    "\n",
    "fig, ax = plt.subplots()\n",
    "\n",
    "ax = plotUpperLvl(\"large-tol0.4\",\"nash\",\"highest-penalty\",\"null\",2000000,ax,\"o\",\"b\")\n",
    "ax = plotUpperLvl(\"large-tol0.4\",\"BTO-d\",\"highest-penalty\",\"null\",2000000,ax,\"o\",\"r\")\n",
    "ax = plotUpperLvl(\"large-tol0.4\",\"BTO-g\",\"highest-penalty\",\"null\",2000000,ax,\"o\",\"g\")\n",
    "ax = plotUpperLvl(\"large-tol0.4\",\"ideal\",\"highest-penalty\",\"null\",2000000,ax,\"o\",\"k\")\n",
    "ax = plotUpperLvl(\"large-tol0.4\",\"PMP\",\"highest-penalty\",\"null\",2000000,ax,\"o\",\"c\")\n",
    "\n",
    "ax = plotUpperLvl(\"large-tol0.4\",\"nash\",\"highest-mips\",\"null\",2000000,ax,\"x\",\"b\")\n",
    "ax = plotUpperLvl(\"large-tol0.4\",\"BTO-d\",\"highest-mips\",\"null\",2000000,ax,\"x\",\"r\")\n",
    "ax = plotUpperLvl(\"large-tol0.4\",\"BTO-g\",\"highest-mips\",\"null\",2000000,ax,\"x\",\"g\")\n",
    "ax = plotUpperLvl(\"large-tol0.4\",\"ideal\",\"highest-mips\",\"null\",2000000,ax,\"x\",\"k\")\n",
    "ax = plotUpperLvl(\"large-tol0.4\",\"PMP\",\"highest-mips\",\"null\",2000000,ax,\"x\",\"c\")\n",
    "\n",
    "ax = plotUpperLvl(\"large-tol0.4\",\"nash\",\"lowest-deadline\",\"null\",2000000,ax,\"*\",\"b\")\n",
    "ax = plotUpperLvl(\"large-tol0.4\",\"BTO-d\",\"lowest-deadline\",\"null\",2000000,ax,\"*\",\"r\")\n",
    "ax = plotUpperLvl(\"large-tol0.4\",\"BTO-g\",\"lowest-deadline\",\"null\",2000000,ax,\"*\",\"g\")\n",
    "ax = plotUpperLvl(\"large-tol0.4\",\"ideal\",\"lowest-deadline\",\"null\",2000000,ax,\"*\",\"k\")\n",
    "ax = plotUpperLvl(\"large-tol0.4\",\"PMP\",\"lowest-deadline\",\"null\",2000000,ax,\"*\",\"c\")\n",
    "\n",
    "#ax.set_yscale('log')\n",
    "#ax.set_xscale('log')\n",
    "\n",
    "ax.legend(loc='best', bbox_to_anchor=(1,1))\n",
    "ax.set_xlabel('dcCost ($) ')\n",
    "ax.set_ylabel('WATTS')"
   ]
  },
  {
   "cell_type": "code",
   "execution_count": 7,
   "metadata": {},
   "outputs": [
    {
     "name": "stderr",
     "output_type": "stream",
     "text": [
      "No handles with labels found to put in legend.\n",
      "No handles with labels found to put in legend.\n",
      "No handles with labels found to put in legend.\n"
     ]
    },
    {
     "data": {
      "image/png": "[encoded data removed]",
      "text/plain": [
       "<Figure size 1080x1080 with 1 Axes>"
      ]
     },
     "metadata": {
      "needs_background": "light"
     },
     "output_type": "display_data"
    },
    {
     "data": {
      "image/png": "[encoded data removed]",
      "text/plain": [
       "<Figure size 1080x1080 with 1 Axes>"
      ]
     },
     "metadata": {
      "needs_background": "light"
     },
     "output_type": "display_data"
    },
    {
     "data": {
      "image/png": "[encoded data removed]",
      "text/plain": [
       "<Figure size 1080x1080 with 1 Axes>"
      ]
     },
     "metadata": {
      "needs_background": "light"
     },
     "output_type": "display_data"
    }
   ],
   "source": [
    "def showHeu(instance):\n",
    "    fig, ax = plt.subplots()\n",
    "\n",
    "    ax = plotUpperLvl(instance,\"pareto\",\"highest-penalty\",\"null\",120000,ax,\"o\",\"y\")\n",
    "    ax = plotUpperLvl(instance,\"nash\",\"highest-penalty\",\"null\",170000,ax,\"o\",\"b\")\n",
    "    ax = plotUpperLvl(instance,\"BTO-d\",\"highest-penalty\",\"null\",170000,ax,\"o\",\"r\")\n",
    "    ax = plotUpperLvl(instance,\"BTO-g\",\"highest-penalty\",\"null\",170000,ax,\"o\",\"g\")\n",
    "    ax = plotUpperLvl(instance,\"ideal\",\"highest-penalty\",\"null\",170000,ax,\"o\",\"k\")\n",
    "    ax = plotUpperLvl(instance,\"PMP\",\"highest-penalty\",\"null\",170000,ax,\"o\",\"c\")\n",
    "\n",
    "    #ax = plotUpperLvl(\"large-tol0.4\",\"pareto\",\"highest-mips\",\"null\",120000,ax,\"x\",\"y\")\n",
    "    ax = plotUpperLvl(instance,\"nash\",\"highest-mips\",\"null\",170000,ax,\"x\",\"b\")\n",
    "    ax = plotUpperLvl(instance,\"BTO-d\",\"highest-mips\",\"null\",170000,ax,\"x\",\"r\")\n",
    "    ax = plotUpperLvl(instance,\"BTO-g\",\"highest-mips\",\"null\",170000,ax,\"x\",\"g\")\n",
    "    ax = plotUpperLvl(instance,\"ideal\",\"highest-mips\",\"null\",170000,ax,\"x\",\"k\")\n",
    "    ax = plotUpperLvl(instance,\"PMP\",\"highest-mips\",\"null\",170000,ax,\"x\",\"c\")\n",
    "\n",
    "    #ax = plotUpperLvl(\"large-tol0.4\",\"pareto\",\"lowest-deadline\",\"null\",120000,ax,\"*\",\"y\")\n",
    "    ax = plotUpperLvl(instance,\"nash\",\"lowest-deadline\",\"null\",170000,ax,\"*\",\"b\")\n",
    "    ax = plotUpperLvl(instance,\"BTO-d\",\"lowest-deadline\",\"null\",170000,ax,\"*\",\"r\")\n",
    "    ax = plotUpperLvl(instance,\"BTO-g\",\"lowest-deadline\",\"null\",170000,ax,\"*\",\"g\")\n",
    "    ax = plotUpperLvl(instance,\"ideal\",\"lowest-deadline\",\"null\",170000,ax,\"*\",\"k\")\n",
    "    ax = plotUpperLvl(instance,\"PMP\",\"lowest-deadline\",\"null\",170000,ax,\"*\",\"c\")\n",
    "\n",
    "\n",
    "    ax.legend(loc='best', bbox_to_anchor=(1,1))\n",
    "    ax.set_xlabel('dcCost ($) ')\n",
    "    ax.set_ylabel('WATTS')\n",
    "\n",
    "showHeu('medium-tol1')\n",
    "showHeu('medium-tol0.8')\n",
    "showHeu('medium-tol0.4')\n",
    "\n",
    "    \n",
    "    \n",
    "    "
   ]
  },
  {
   "cell_type": "code",
   "execution_count": 8,
   "metadata": {},
   "outputs": [
    {
     "name": "stderr",
     "output_type": "stream",
     "text": [
      "No handles with labels found to put in legend.\n"
     ]
    },
    {
     "data": {
      "text/plain": [
       "Text(0, 0.5, 'WATTS')"
      ]
     },
     "execution_count": 8,
     "metadata": {},
     "output_type": "execute_result"
    },
    {
     "data": {
      "image/png": "[encoded data removed]",
      "text/plain": [
       "<Figure size 1080x1080 with 1 Axes>"
      ]
     },
     "metadata": {
      "needs_background": "light"
     },
     "output_type": "display_data"
    }
   ],
   "source": [
    "fig, ax = plt.subplots()\n",
    "ax = plotUpperLvl(\"large-tol0.8\",\"pareto\",\"highest-penalty\",\"null\",2000000,ax,\"o\",\"y\")\n",
    "ax = plotUpperLvl(\"large-tol0.8\",\"nash\",\"highest-penalty\",\"null\",2000000,ax,\"o\",\"b\")\n",
    "ax = plotUpperLvl(\"large-tol0.8\",\"BTO-d\",\"highest-penalty\",\"null\",2000000,ax,\"o\",\"r\")\n",
    "ax = plotUpperLvl(\"large-tol0.8\",\"BTO-g\",\"highest-penalty\",\"null\",2000000,ax,\"o\",\"g\")\n",
    "ax = plotUpperLvl(\"large-tol0.8\",\"ideal\",\"highest-penalty\",\"null\",2000000,ax,\"x\",\"k\")\n",
    "ax = plotUpperLvl(\"large-tol0.8\",\"PMP\",\"highest-penalty\",\"null\",2000000,ax,\"o\",\"c\")\n",
    "\n",
    "ax.legend(loc='best', bbox_to_anchor=(1,1))\n",
    "ax.set_xlabel('dcCost ($) ')\n",
    "ax.set_ylabel('WATTS')\n"
   ]
  },
  {
   "cell_type": "code",
   "execution_count": 9,
   "metadata": {},
   "outputs": [
    {
     "name": "stderr",
     "output_type": "stream",
     "text": [
      "No handles with labels found to put in legend.\n"
     ]
    },
    {
     "data": {
      "text/plain": [
       "Text(0, 0.5, 'WATTS')"
      ]
     },
     "execution_count": 9,
     "metadata": {},
     "output_type": "execute_result"
    },
    {
     "data": {
      "image/png": "[encoded data removed]",
      "text/plain": [
       "<Figure size 1080x1080 with 1 Axes>"
      ]
     },
     "metadata": {
      "needs_background": "light"
     },
     "output_type": "display_data"
    }
   ],
   "source": [
    "fig, ax = plt.subplots()\n",
    "ax = plotUpperLvl(\"medium-tol1\",\"pareto\",\"highest-penalty\",\"null\",2000000,ax,\"o\",\"y\")\n",
    "ax = plotUpperLvl(\"medium-tol1\",\"nash\",\"highest-penalty\",\"null\",2000000,ax,\"o\",\"b\")\n",
    "ax = plotUpperLvl(\"medium-tol1\",\"BTO-d\",\"highest-penalty\",\"null\",2000000,ax,\"o\",\"r\")\n",
    "ax = plotUpperLvl(\"medium-tol1\",\"BTO-g\",\"highest-penalty\",\"null\",2000000,ax,\"o\",\"g\")\n",
    "ax = plotUpperLvl(\"medium-tol1\",\"ideal\",\"highest-penalty\",\"null\",2000000,ax,\"x\",\"k\")\n",
    "ax = plotUpperLvl(\"medium-tol1\",\"PMP\",\"highest-penalty\",\"null\",2000000,ax,\"o\",\"c\")\n",
    "\n",
    "ax.legend(loc='best', bbox_to_anchor=(1,1))\n",
    "ax.set_xlabel('dcCost ($) ')\n",
    "ax.set_ylabel('WATTS')"
   ]
  },
  {
   "cell_type": "code",
   "execution_count": 10,
   "metadata": {},
   "outputs": [
    {
     "name": "stderr",
     "output_type": "stream",
     "text": [
      "No handles with labels found to put in legend.\n"
     ]
    },
    {
     "data": {
      "text/plain": [
       "Text(0, 0.5, 'WATTS')"
      ]
     },
     "execution_count": 10,
     "metadata": {},
     "output_type": "execute_result"
    },
    {
     "data": {
      "image/png": "[encoded data removed]",
      "text/plain": [
       "<Figure size 1080x1080 with 1 Axes>"
      ]
     },
     "metadata": {
      "needs_background": "light"
     },
     "output_type": "display_data"
    }
   ],
   "source": [
    "fig, ax = plt.subplots()\n",
    "ax = plotUpperLvl(\"large-tol0.8\",\"pareto\",\"highest-penalty\",\"null\",2000000,ax,\"o\",\"y\")\n",
    "ax = plotUpperLvl(\"large-tol0.8\",\"pareto\",\"highest-mips\",\"null\",2000000,ax,\"o\",\"b\")\n",
    "ax = plotUpperLvl(\"large-tol0.8\",\"pareto\",\"highest-deadline\",\"null\",2000000,ax,\"o\",\"r\")\n",
    "#ax = plotUpperLvl(\"large-tol0.8\",\"pareto\",\"\",\"null\",2000000,ax,\"o\",\"y\")\n",
    "\n",
    "\n",
    "ax.legend(loc='best', bbox_to_anchor=(1,1))\n",
    "ax.set_xlabel('dcCost ($) ')\n",
    "ax.set_ylabel('WATTS')"
   ]
  },
  {
   "cell_type": "code",
   "execution_count": 11,
   "metadata": {},
   "outputs": [
    {
     "name": "stderr",
     "output_type": "stream",
     "text": [
      "No handles with labels found to put in legend.\n"
     ]
    },
    {
     "data": {
      "text/plain": [
       "Text(0, 0.5, 'WATTS')"
      ]
     },
     "execution_count": 11,
     "metadata": {},
     "output_type": "execute_result"
    },
    {
     "data": {
      "image/png": "[encoded data removed]",
      "text/plain": [
       "<Figure size 1080x1080 with 1 Axes>"
      ]
     },
     "metadata": {
      "needs_background": "light"
     },
     "output_type": "display_data"
    }
   ],
   "source": [
    "fig, ax = plt.subplots()\n",
    "ax = plotUpperLvl(\"large-tol0.8\",\"pareto\",\"highest-penalty\",\"null\",30000,ax,\"o\",\"y\")\n",
    "ax = plotUpperLvl(\"large-tol0.8\",\"pareto\",\"highest-mips\",\"null\",30000,ax,\"o\",\"b\")\n",
    "ax = plotUpperLvl(\"large-tol0.8\",\"pareto\",\"highest-deadline\",\"null\",30000,ax,\"o\",\"r\")\n",
    "#ax = plotUpperLvl(\"large-tol0.8\",\"pareto\",\"\",\"null\",2000000,ax,\"o\",\"y\")\n",
    "\n",
    "\n",
    "ax.legend(loc='best', bbox_to_anchor=(1,1))\n",
    "ax.set_xlabel('dcCost ($) ')\n",
    "ax.set_ylabel('WATTS')"
   ]
  },
  {
   "cell_type": "code",
   "execution_count": null,
   "metadata": {},
   "outputs": [],
   "source": []
  }
 ],
 "metadata": {
  "kernelspec": {
   "display_name": "Python 3",
   "language": "python",
   "name": "python3"
  },
  "language_info": {
   "codemirror_mode": {
    "name": "ipython",
    "version": 3
   },
   "file_extension": ".py",
   "mimetype": "text/x-python",
   "name": "python",
   "nbconvert_exporter": "python",
   "pygments_lexer": "ipython3",
   "version": "3.7.3"
  }
 },
 "nbformat": 4,
 "nbformat_minor": 2
}
