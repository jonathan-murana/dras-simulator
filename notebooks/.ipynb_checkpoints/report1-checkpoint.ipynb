{
 "cells": [
  {
   "cell_type": "markdown",
   "metadata": {},
   "source": [
    "# Report 1\n"
   ]
  },
  {
   "cell_type": "markdown",
   "metadata": {},
   "source": [
    "### library importation, constant definition and data loading from files"
   ]
  },
  {
   "cell_type": "markdown",
   "metadata": {},
   "source": [
    "The next cell defines the imports nedeed to execute the notebook"
   ]
  },
  {
   "cell_type": "code",
   "execution_count": 1,
   "metadata": {},
   "outputs": [
    {
     "name": "stdout",
     "output_type": "stream",
     "text": [
      "Populating the interactive namespace from numpy and matplotlib\n"
     ]
    }
   ],
   "source": [
    "import pandas as pd\n",
    "#!pip install geopandas\n",
    "import geopandas as gpd\n",
    "import matplotlib.pyplot as plt\n",
    "%pylab inline\n",
    "from math import sin, cos, sqrt, atan2, radians\n",
    "pd.set_option('precision', 5)\n",
    "from functools import reduce\n",
    "import os\n",
    "from operator import truediv\n",
    "from mpl_toolkits.mplot3d import Axes3D  # noqa: F401 unused import\n",
    "\n",
    "import matplotlib.pyplot as plt\n",
    "import numpy as np\n",
    "\n",
    "import os\n",
    "import sys\n",
    "module_path = os.path.abspath(os.path.join('.'))\n",
    "if module_path not in sys.path:\n",
    "    sys.path.append(module_path)\n",
    "import pareto\n"
   ]
  },
  {
   "cell_type": "markdown",
   "metadata": {},
   "source": [
    "The next cell defines the contanst used by the procedures bellow\n"
   ]
  },
  {
   "cell_type": "code",
   "execution_count": 2,
   "metadata": {},
   "outputs": [],
   "source": [
    "report1_dir = '../dras-controller/output/'\n",
    "#output_tex = '../dras-controller/output_tex/'\n",
    "\n",
    "def print_full(x):\n",
    "    pd.set_option('display.max_rows', len(x))\n",
    "    display(x)\n",
    "    #print(x.to_latex(index=False)) \n",
    "    pd.reset_option('display.max_rows')"
   ]
  },
  {
   "cell_type": "markdown",
   "metadata": {},
   "source": [
    "\n"
   ]
  },
  {
   "cell_type": "markdown",
   "metadata": {},
   "source": [
    "# plot client function\n",
    "\n",
    "the scenarios are generated from swf files\n",
    "\n"
   ]
  },
  {
   "cell_type": "code",
   "execution_count": 3,
   "metadata": {
    "scrolled": true
   },
   "outputs": [],
   "source": [
    "def identify_pareto(scores):\n",
    "    # Count number of items\n",
    "    population_size = scores.shape[0]\n",
    "    # Create a NumPy index for scores on the pareto front (zero indexed)\n",
    "    population_ids = np.arange(population_size)\n",
    "    # Create a starting list of items on the Pareto front\n",
    "    # All items start off as being labelled as on the Parteo front\n",
    "    pareto_front = np.ones(population_size, dtype=bool)\n",
    "    # Loop through each item. This will then be compared with all other items\n",
    "    for i in range(population_size):\n",
    "        # Loop through all other items\n",
    "        for j in range(population_size):\n",
    "            # Check if our 'i' pint is dominated by out 'j' point\n",
    "            if all(scores[j] >= scores[i]) and any(scores[j] > scores[i]):\n",
    "                # j dominates i. Label 'i' point as not on Pareto front\n",
    "                pareto_front[i] = 0\n",
    "                # Stop further comparisons with 'i' (no more comparisons needed)\n",
    "                break\n",
    "    # Return ids of scenarios on pareto front\n",
    "    return population_ids[pareto_front]"
   ]
  },
  {
   "cell_type": "code",
   "execution_count": 4,
   "metadata": {},
   "outputs": [],
   "source": [
    "# Faster than is_pareto_efficient_simple, but less readable. \n",
    "#def is_pareto_efficient(costs, return_mask = True): \n",
    "#    \"\"\" Find the pareto-efficient points :param costs: An (n_points, n_costs) array :param return_mask: True to return a mask :return: An array of indices of pareto-efficient points. If return_mask is True, this will be an (n_points, ) boolean array Otherwise it will be a (n_efficient_points, ) integer array of indices. \"\"\" is_efficient = np.arange(costs.shape[0]) n_points = costs.shape[0] next_point_index = 0 # Next index in the is_efficient array to search for while next_point_index<len(costs): nondominated_point_mask = np.any(costs<costs[next_point_index], axis=1) nondominated_point_mask[next_point_index] = True is_efficient = is_efficient[nondominated_point_mask] # Remove dominated points costs = costs[nondominated_point_mask] next_point_index = np.sum(nondominated_point_mask[:next_point_index])+1 if return_mask: is_efficient_mask = np.zeros(n_points, dtype = bool) is_efficient_mask[is_efficient] = True return is_efficient_mask else: return is_efficient"
   ]
  },
  {
   "cell_type": "markdown",
   "metadata": {},
   "source": [
    "procesar pareto"
   ]
  },
  {
   "cell_type": "code",
   "execution_count": 5,
   "metadata": {},
   "outputs": [],
   "source": [
    "def procesarPareto(pattern1,pattern2,pattern3,lesspattern,upper_offer,ax,color):    \n",
    "    \n",
    "    for filename in [f for f in os.listdir(report1_dir +'/') if (pattern1 in f \n",
    "                                                                 and pattern2 in f\n",
    "                                                                 and pattern3 in f\n",
    "                                                                 and not lesspattern in f and \".FUN\" in f)]:\n",
    "        data = pd.read_csv(report1_dir +'/' +filename, header=None,sep=' ',skiprows=0,)\n",
    "        data.columns = [\n",
    "            'i','offer ($)', 'clients reduction (W)','motor','err','dcCost','socialCost','#V','VT']\n",
    "\n",
    "        data1 = data[['clients reduction (W)','dcCost']]\n",
    "       \n",
    "        #data = data[data['dcCost']<upper_offer]\n",
    "        \n",
    "        #ax.scatter(data['dcCost'], data['clients reduction (W)'], label=filename,marker=mark,color=color)\n",
    "        data=data1\n",
    "        data['clients reduction (W)'] = data['clients reduction (W)'].astype(float)\n",
    "        data['clients reduction (W)'] = data['clients reduction (W)'] * -1\n",
    "\n",
    "        nondominated = pareto.eps_sort([list(data.itertuples(False))], [0,1])\n",
    "        #nondominated['clients reduction (W)'] = nondominated['clients reduction (W)'] * -1\n",
    "        nondominated\n",
    "\n",
    "        data2 = pd.DataFrame(data=nondominated,columns=['r','c'])  # 1st row as the column names\n",
    "        data2['r'] = data2['r'] *-1\n",
    "    return data2 \n",
    "\n",
    "#fig, ax = plt.subplots()\n",
    "\n",
    "#data1 = procesarPareto(\"DRD-6-2-2-het\",\"highest-penalty\",\"pareto-dist\",\"null\",2000000,1,\"*\")\n",
    "#data1['p'] = 'pHPFd\\\\\\\\'\n",
    "#data= data1.copy()\n",
    "#data1 = procesarPareto(\"DRD-6-2-2-het\",\"highest-penalty\",\"pareto-global\",\"null\",2000000,1,\"*\")\n",
    "#data1['p'] = 'pHPFg\\\\\\\\'\n",
    "#data = data.append(data1)\n",
    "#data1 = procesarPareto(\"DRD-6-2-2-het\",\"highest-mips\",\"pareto-dist\",\"null\",2000000,1,\"*\")\n",
    "#data1['p'] = 'pLLFd\\\\\\\\'\n",
    "#data = data.append(data1)\n",
    "#data1 = procesarPareto(\"DRD-6-2-2-het\",\"highest-mips\",\"pareto-global\",\"null\",2000000,1,\"*\")\n",
    "#data1['p'] = 'pLLFg\\\\\\\\'\n",
    "#data = data.append(data1)\n",
    "#data1 = procesarPareto(\"DRD-6-2-2-het\",\"highest-deadline\",\"pareto-dist\",\"null\",2000000,1,\"*\")\n",
    "#data1['p'] = 'pHDFd\\\\\\\\'\n",
    "#data = data.append(data1)\n",
    "#data1 = procesarPareto(\"DRD-6-2-2-het\",\"highest-deadline\",\"pareto-global\",\"null\",2000000,1,\"*\")\n",
    "#data['p'] = 'pHDFg\\\\\\\\'\n",
    "#data = data.append(data1)\n",
    "#print_full(data)\n",
    "\n"
   ]
  },
  {
   "cell_type": "code",
   "execution_count": 6,
   "metadata": {},
   "outputs": [],
   "source": [
    "\n",
    "#table = pd.read_table(report1_dir+\"pareto-dist_highest-penalty-first_small-tol1.FUN\")\n",
    "#nondominated = pareto.eps_sort([list(table.itertuples(False))], [3, 4, 5], [1, 0.1, 3])\n",
    "\n",
    "\n"
   ]
  },
  {
   "cell_type": "markdown",
   "metadata": {},
   "source": [
    "## negoTiation"
   ]
  },
  {
   "cell_type": "code",
   "execution_count": 29,
   "metadata": {},
   "outputs": [],
   "source": [
    "def plotUpperLvl(pattern1,pattern2,pattern3,lesspattern,upper_offer,ax,mark,color):    \n",
    "    \n",
    "    for filename in [f for f in os.listdir(report1_dir +'/') if (pattern1 in f \n",
    "                                                                 and pattern2 in f\n",
    "                                                                 and pattern3 in f\n",
    "                                                                 and not lesspattern in f and \".FUN\" in f)]:\n",
    "        data = pd.read_csv(report1_dir +'/' +filename, header=None,sep=' ',skiprows=0,)\n",
    "        data.columns = [\n",
    "            'i','offer ($)', 'clients reduction (W)','motor','err','dcCost','socialCost','#V','VT',\n",
    "            'tenants','onsite','cool']\n",
    "\n",
    "        data1 = data[['clients reduction (W)','motor','offer ($)','err','dcCost','socialCost',\n",
    "                     'tenants','onsite','cool'\n",
    "                     ]]\n",
    "        data1 = data1.round(4)\n",
    "        #//data1 = data1.set_index('offer ($)')\n",
    "        \n",
    "        #data = data[data['dcCost']<upper_offer]\n",
    "        \n",
    "        ax.scatter(data['offer ($)'], data['dcCost'], label=filename,marker=mark,color=color)\n",
    "        ax.scatter(data['offer ($)'], data['tenants'], label=filename,marker=mark,color=color)\n",
    "        ax.scatter(data['offer ($)'], data['onsite'], label=filename,marker=mark,color=color)\n",
    "        ax.scatter(data['offer ($)'], data['cool'], label=filename,marker=mark,color=color)\n",
    "\n",
    "\n",
    "        \n",
    "    return ax \n"
   ]
  },
  {
   "cell_type": "code",
   "execution_count": 31,
   "metadata": {
    "scrolled": true
   },
   "outputs": [
    {
     "ename": "KeyError",
     "evalue": "\"['socialCosttenants'] not in index\"",
     "output_type": "error",
     "traceback": [
      "\u001b[0;31m---------------------------------------------------------------------------\u001b[0m",
      "\u001b[0;31mKeyError\u001b[0m                                  Traceback (most recent call last)",
      "\u001b[0;32m<ipython-input-31-9b0c8c66015b>\u001b[0m in \u001b[0;36m<module>\u001b[0;34m\u001b[0m\n\u001b[1;32m      5\u001b[0m \u001b[0mfig\u001b[0m\u001b[0;34m,\u001b[0m \u001b[0max\u001b[0m \u001b[0;34m=\u001b[0m \u001b[0mplt\u001b[0m\u001b[0;34m.\u001b[0m\u001b[0msubplots\u001b[0m\u001b[0;34m(\u001b[0m\u001b[0;34m)\u001b[0m\u001b[0;34m\u001b[0m\u001b[0;34m\u001b[0m\u001b[0m\n\u001b[1;32m      6\u001b[0m \u001b[0;34m\u001b[0m\u001b[0m\n\u001b[0;32m----> 7\u001b[0;31m \u001b[0max\u001b[0m \u001b[0;34m=\u001b[0m \u001b[0mplotUpperLvl\u001b[0m\u001b[0;34m(\u001b[0m\u001b[0;34m\"pareto-g\"\u001b[0m\u001b[0;34m,\u001b[0m\u001b[0;34m\"\"\u001b[0m\u001b[0;34m,\u001b[0m\u001b[0;34m\"HPF\"\u001b[0m\u001b[0;34m,\u001b[0m\u001b[0;34m\"null\"\u001b[0m\u001b[0;34m,\u001b[0m\u001b[0;36m20000000\u001b[0m\u001b[0;34m,\u001b[0m\u001b[0max\u001b[0m\u001b[0;34m,\u001b[0m\u001b[0;34m\"*\"\u001b[0m\u001b[0;34m,\u001b[0m\u001b[0;34m\"r\"\u001b[0m\u001b[0;34m)\u001b[0m\u001b[0;34m\u001b[0m\u001b[0;34m\u001b[0m\u001b[0m\n\u001b[0m\u001b[1;32m      8\u001b[0m \u001b[0;31m#ax = plotUpperLvl(\"pareto-g\",\"\",\"PL\",\"null\",2000000,ax,\"x\",\"b\")\u001b[0m\u001b[0;34m\u001b[0m\u001b[0;34m\u001b[0m\u001b[0;34m\u001b[0m\u001b[0m\n\u001b[1;32m      9\u001b[0m \u001b[0;31m#ax = plotUpperLvl(\"pareto-g\",\"\",\"PD\",\"null\",2000000,ax,\"o\",\"g\")\u001b[0m\u001b[0;34m\u001b[0m\u001b[0;34m\u001b[0m\u001b[0;34m\u001b[0m\u001b[0m\n",
      "\u001b[0;32m<ipython-input-29-77db8c20b288>\u001b[0m in \u001b[0;36mplotUpperLvl\u001b[0;34m(pattern1, pattern2, pattern3, lesspattern, upper_offer, ax, mark, color)\u001b[0m\n\u001b[1;32m     11\u001b[0m \u001b[0;34m\u001b[0m\u001b[0m\n\u001b[1;32m     12\u001b[0m         data1 = data[['clients reduction (W)','motor','offer ($)','err','dcCost','socialCost'\n\u001b[0;32m---> 13\u001b[0;31m                      \u001b[0;34m'tenants'\u001b[0m\u001b[0;34m,\u001b[0m\u001b[0;34m'onsite'\u001b[0m\u001b[0;34m,\u001b[0m\u001b[0;34m'cool'\u001b[0m\u001b[0;34m\u001b[0m\u001b[0;34m\u001b[0m\u001b[0m\n\u001b[0m\u001b[1;32m     14\u001b[0m                      ]]\n\u001b[1;32m     15\u001b[0m         \u001b[0mdata1\u001b[0m \u001b[0;34m=\u001b[0m \u001b[0mdata1\u001b[0m\u001b[0;34m.\u001b[0m\u001b[0mround\u001b[0m\u001b[0;34m(\u001b[0m\u001b[0;36m4\u001b[0m\u001b[0;34m)\u001b[0m\u001b[0;34m\u001b[0m\u001b[0;34m\u001b[0m\u001b[0m\n",
      "\u001b[0;32m~/anaconda3/lib/python3.7/site-packages/pandas/core/frame.py\u001b[0m in \u001b[0;36m__getitem__\u001b[0;34m(self, key)\u001b[0m\n\u001b[1;32m   2932\u001b[0m                 \u001b[0mkey\u001b[0m \u001b[0;34m=\u001b[0m \u001b[0mlist\u001b[0m\u001b[0;34m(\u001b[0m\u001b[0mkey\u001b[0m\u001b[0;34m)\u001b[0m\u001b[0;34m\u001b[0m\u001b[0;34m\u001b[0m\u001b[0m\n\u001b[1;32m   2933\u001b[0m             indexer = self.loc._convert_to_indexer(key, axis=1,\n\u001b[0;32m-> 2934\u001b[0;31m                                                    raise_missing=True)\n\u001b[0m\u001b[1;32m   2935\u001b[0m \u001b[0;34m\u001b[0m\u001b[0m\n\u001b[1;32m   2936\u001b[0m         \u001b[0;31m# take() does not accept boolean indexers\u001b[0m\u001b[0;34m\u001b[0m\u001b[0;34m\u001b[0m\u001b[0;34m\u001b[0m\u001b[0m\n",
      "\u001b[0;32m~/anaconda3/lib/python3.7/site-packages/pandas/core/indexing.py\u001b[0m in \u001b[0;36m_convert_to_indexer\u001b[0;34m(self, obj, axis, is_setter, raise_missing)\u001b[0m\n\u001b[1;32m   1352\u001b[0m                 kwargs = {'raise_missing': True if is_setter else\n\u001b[1;32m   1353\u001b[0m                           raise_missing}\n\u001b[0;32m-> 1354\u001b[0;31m                 \u001b[0;32mreturn\u001b[0m \u001b[0mself\u001b[0m\u001b[0;34m.\u001b[0m\u001b[0m_get_listlike_indexer\u001b[0m\u001b[0;34m(\u001b[0m\u001b[0mobj\u001b[0m\u001b[0;34m,\u001b[0m \u001b[0maxis\u001b[0m\u001b[0;34m,\u001b[0m \u001b[0;34m**\u001b[0m\u001b[0mkwargs\u001b[0m\u001b[0;34m)\u001b[0m\u001b[0;34m[\u001b[0m\u001b[0;36m1\u001b[0m\u001b[0;34m]\u001b[0m\u001b[0;34m\u001b[0m\u001b[0;34m\u001b[0m\u001b[0m\n\u001b[0m\u001b[1;32m   1355\u001b[0m         \u001b[0;32melse\u001b[0m\u001b[0;34m:\u001b[0m\u001b[0;34m\u001b[0m\u001b[0;34m\u001b[0m\u001b[0m\n\u001b[1;32m   1356\u001b[0m             \u001b[0;32mtry\u001b[0m\u001b[0;34m:\u001b[0m\u001b[0;34m\u001b[0m\u001b[0;34m\u001b[0m\u001b[0m\n",
      "\u001b[0;32m~/anaconda3/lib/python3.7/site-packages/pandas/core/indexing.py\u001b[0m in \u001b[0;36m_get_listlike_indexer\u001b[0;34m(self, key, axis, raise_missing)\u001b[0m\n\u001b[1;32m   1159\u001b[0m         self._validate_read_indexer(keyarr, indexer,\n\u001b[1;32m   1160\u001b[0m                                     \u001b[0mo\u001b[0m\u001b[0;34m.\u001b[0m\u001b[0m_get_axis_number\u001b[0m\u001b[0;34m(\u001b[0m\u001b[0maxis\u001b[0m\u001b[0;34m)\u001b[0m\u001b[0;34m,\u001b[0m\u001b[0;34m\u001b[0m\u001b[0;34m\u001b[0m\u001b[0m\n\u001b[0;32m-> 1161\u001b[0;31m                                     raise_missing=raise_missing)\n\u001b[0m\u001b[1;32m   1162\u001b[0m         \u001b[0;32mreturn\u001b[0m \u001b[0mkeyarr\u001b[0m\u001b[0;34m,\u001b[0m \u001b[0mindexer\u001b[0m\u001b[0;34m\u001b[0m\u001b[0;34m\u001b[0m\u001b[0m\n\u001b[1;32m   1163\u001b[0m \u001b[0;34m\u001b[0m\u001b[0m\n",
      "\u001b[0;32m~/anaconda3/lib/python3.7/site-packages/pandas/core/indexing.py\u001b[0m in \u001b[0;36m_validate_read_indexer\u001b[0;34m(self, key, indexer, axis, raise_missing)\u001b[0m\n\u001b[1;32m   1250\u001b[0m             \u001b[0;32mif\u001b[0m \u001b[0;32mnot\u001b[0m\u001b[0;34m(\u001b[0m\u001b[0mself\u001b[0m\u001b[0;34m.\u001b[0m\u001b[0mname\u001b[0m \u001b[0;34m==\u001b[0m \u001b[0;34m'loc'\u001b[0m \u001b[0;32mand\u001b[0m \u001b[0;32mnot\u001b[0m \u001b[0mraise_missing\u001b[0m\u001b[0;34m)\u001b[0m\u001b[0;34m:\u001b[0m\u001b[0;34m\u001b[0m\u001b[0;34m\u001b[0m\u001b[0m\n\u001b[1;32m   1251\u001b[0m                 \u001b[0mnot_found\u001b[0m \u001b[0;34m=\u001b[0m \u001b[0mlist\u001b[0m\u001b[0;34m(\u001b[0m\u001b[0mset\u001b[0m\u001b[0;34m(\u001b[0m\u001b[0mkey\u001b[0m\u001b[0;34m)\u001b[0m \u001b[0;34m-\u001b[0m \u001b[0mset\u001b[0m\u001b[0;34m(\u001b[0m\u001b[0max\u001b[0m\u001b[0;34m)\u001b[0m\u001b[0;34m)\u001b[0m\u001b[0;34m\u001b[0m\u001b[0;34m\u001b[0m\u001b[0m\n\u001b[0;32m-> 1252\u001b[0;31m                 \u001b[0;32mraise\u001b[0m \u001b[0mKeyError\u001b[0m\u001b[0;34m(\u001b[0m\u001b[0;34m\"{} not in index\"\u001b[0m\u001b[0;34m.\u001b[0m\u001b[0mformat\u001b[0m\u001b[0;34m(\u001b[0m\u001b[0mnot_found\u001b[0m\u001b[0;34m)\u001b[0m\u001b[0;34m)\u001b[0m\u001b[0;34m\u001b[0m\u001b[0;34m\u001b[0m\u001b[0m\n\u001b[0m\u001b[1;32m   1253\u001b[0m \u001b[0;34m\u001b[0m\u001b[0m\n\u001b[1;32m   1254\u001b[0m             \u001b[0;31m# we skip the warning on Categorical/Interval\u001b[0m\u001b[0;34m\u001b[0m\u001b[0;34m\u001b[0m\u001b[0;34m\u001b[0m\u001b[0m\n",
      "\u001b[0;31mKeyError\u001b[0m: \"['socialCosttenants'] not in index\""
     ]
    },
    {
     "data": {
      "image/png": "[encoded data removed]",
      "text/plain": [
       "<Figure size 720x720 with 1 Axes>"
      ]
     },
     "metadata": {
      "needs_background": "light"
     },
     "output_type": "display_data"
    }
   ],
   "source": [
    "\n",
    "\n",
    "\n",
    "import matplotlib.pyplot as plt\n",
    "%matplotlib inline\n",
    "plt.rcParams[\"figure.figsize\"] = [10, 10]\n",
    "\n",
    "fig, ax = plt.subplots()\n",
    "\n",
    "ax = plotUpperLvl(\"pareto-g\",\"\",\"HPF\",\"null\",20000000,ax,\"*\",\"r\")\n",
    "#ax = plotUpperLvl(\"pareto-g\",\"\",\"PL\",\"null\",2000000,ax,\"x\",\"b\")\n",
    "#ax = plotUpperLvl(\"pareto-g\",\"\",\"PD\",\"null\",2000000,ax,\"o\",\"g\")\n",
    "#ax = plotUpperLvl(\"pareto-g\",\"\",\"DL\",\"null\",2000000,ax,\"o\",\"y\")\n",
    "\n",
    "ax.legend(loc='best', bbox_to_anchor=(1,1))\n",
    "ax.set_xlabel('offer ($)')\n",
    "ax.set_ylabel('dcCost ($)')\n",
    "from IPython.core.display import display, HTML\n",
    "display(HTML(\"<style>div.output_scroll { height: 44em; }</style>\"))"
   ]
  },
  {
   "cell_type": "code",
   "execution_count": null,
   "metadata": {},
   "outputs": [],
   "source": []
  },
  {
   "cell_type": "code",
   "execution_count": null,
   "metadata": {},
   "outputs": [],
   "source": []
  }
 ],
 "metadata": {
  "kernelspec": {
   "display_name": "Python 3",
   "language": "python",
   "name": "python3"
  },
  "language_info": {
   "codemirror_mode": {
    "name": "ipython",
    "version": 3
   },
   "file_extension": ".py",
   "mimetype": "text/x-python",
   "name": "python",
   "nbconvert_exporter": "python",
   "pygments_lexer": "ipython3",
   "version": "3.7.3"
  }
 },
 "nbformat": 4,
 "nbformat_minor": 2
}
