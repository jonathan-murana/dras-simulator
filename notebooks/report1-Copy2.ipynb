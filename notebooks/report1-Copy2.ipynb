{
 "cells": [
  {
   "cell_type": "markdown",
   "metadata": {},
   "source": [
    "## Report 1\n"
   ]
  },
  {
   "cell_type": "markdown",
   "metadata": {},
   "source": [
    "### library importation, constant definition and data loading from files"
   ]
  },
  {
   "cell_type": "markdown",
   "metadata": {},
   "source": [
    "The next cell defines the imports nedeed to execute the notebook"
   ]
  },
  {
   "cell_type": "code",
   "execution_count": 1,
   "metadata": {},
   "outputs": [
    {
     "name": "stdout",
     "output_type": "stream",
     "text": [
      "Populating the interactive namespace from numpy and matplotlib\n"
     ]
    }
   ],
   "source": [
    "import pandas as pd\n",
    "#!pip install geopandas\n",
    "import geopandas as gpd\n",
    "import matplotlib.pyplot as plt\n",
    "%pylab inline\n",
    "from math import sin, cos, sqrt, atan2, radians\n",
    "pd.set_option('precision', 5)\n",
    "from functools import reduce\n",
    "import os\n",
    "from operator import truediv\n",
    "from mpl_toolkits.mplot3d import Axes3D  # noqa: F401 unused import\n",
    "\n",
    "import matplotlib.pyplot as plt\n",
    "import numpy as np\n",
    "\n",
    "import os\n",
    "import sys\n",
    "module_path = os.path.abspath(os.path.join('.'))\n",
    "if module_path not in sys.path:\n",
    "    sys.path.append(module_path)\n",
    "import pareto\n"
   ]
  },
  {
   "cell_type": "markdown",
   "metadata": {},
   "source": [
    "The next cell defines the contanst used by the procedures bellow\n"
   ]
  },
  {
   "cell_type": "code",
   "execution_count": 2,
   "metadata": {},
   "outputs": [],
   "source": [
    "report1_dir = '../dras-controller/output/'\n",
    "#output_tex = '../dras-controller/output_tex/'\n",
    "\n",
    "def print_full(x):\n",
    "    pd.set_option('display.max_rows', len(x))\n",
    "    display(x)\n",
    "    #print(x.to_latex(index=False)) \n",
    "    pd.reset_option('display.max_rows')"
   ]
  },
  {
   "cell_type": "markdown",
   "metadata": {},
   "source": [
    "\n"
   ]
  },
  {
   "cell_type": "markdown",
   "metadata": {},
   "source": [
    "# plot client function\n",
    "\n",
    "the scenarios are generated from swf files\n",
    "\n"
   ]
  },
  {
   "cell_type": "code",
   "execution_count": 3,
   "metadata": {
    "scrolled": true
   },
   "outputs": [],
   "source": [
    "def identify_pareto(scores):\n",
    "    # Count number of items\n",
    "    population_size = scores.shape[0]\n",
    "    # Create a NumPy index for scores on the pareto front (zero indexed)\n",
    "    population_ids = np.arange(population_size)\n",
    "    # Create a starting list of items on the Pareto front\n",
    "    # All items start off as being labelled as on the Parteo front\n",
    "    pareto_front = np.ones(population_size, dtype=bool)\n",
    "    # Loop through each item. This will then be compared with all other items\n",
    "    for i in range(population_size):\n",
    "        # Loop through all other items\n",
    "        for j in range(population_size):\n",
    "            # Check if our 'i' pint is dominated by out 'j' point\n",
    "            if all(scores[j] >= scores[i]) and any(scores[j] > scores[i]):\n",
    "                # j dominates i. Label 'i' point as not on Pareto front\n",
    "                pareto_front[i] = 0\n",
    "                # Stop further comparisons with 'i' (no more comparisons needed)\n",
    "                break\n",
    "    # Return ids of scenarios on pareto front\n",
    "    return population_ids[pareto_front]"
   ]
  },
  {
   "cell_type": "code",
   "execution_count": 4,
   "metadata": {},
   "outputs": [],
   "source": [
    "# Faster than is_pareto_efficient_simple, but less readable. \n",
    "#def is_pareto_efficient(costs, return_mask = True): \n",
    "#    \"\"\" Find the pareto-efficient points :param costs: An (n_points, n_costs) array :param return_mask: True to return a mask :return: An array of indices of pareto-efficient points. If return_mask is True, this will be an (n_points, ) boolean array Otherwise it will be a (n_efficient_points, ) integer array of indices. \"\"\" is_efficient = np.arange(costs.shape[0]) n_points = costs.shape[0] next_point_index = 0 # Next index in the is_efficient array to search for while next_point_index<len(costs): nondominated_point_mask = np.any(costs<costs[next_point_index], axis=1) nondominated_point_mask[next_point_index] = True is_efficient = is_efficient[nondominated_point_mask] # Remove dominated points costs = costs[nondominated_point_mask] next_point_index = np.sum(nondominated_point_mask[:next_point_index])+1 if return_mask: is_efficient_mask = np.zeros(n_points, dtype = bool) is_efficient_mask[is_efficient] = True return is_efficient_mask else: return is_efficient"
   ]
  },
  {
   "cell_type": "markdown",
   "metadata": {},
   "source": [
    "procesar pareto"
   ]
  },
  {
   "cell_type": "code",
   "execution_count": 5,
   "metadata": {},
   "outputs": [],
   "source": [
    "def procesarPareto(pattern1,pattern2,pattern3,lesspattern,upper_offer,ax,color):    \n",
    "    \n",
    "    for filename in [f for f in os.listdir(report1_dir +'/') if (pattern1 in f \n",
    "                                                                 and pattern2 in f\n",
    "                                                                 and pattern3 in f\n",
    "                                                                 and not lesspattern in f and \".FUN\" in f)]:\n",
    "        data = pd.read_csv(report1_dir +'/' +filename, header=None,sep=' ',skiprows=0,)\n",
    "        data.columns = [\n",
    "            'i','offer ($)', 'clients reduction (W)','motor','err','dcCost','socialCost','#V','VT']\n",
    "\n",
    "        data1 = data[['clients reduction (W)','dcCost']]\n",
    "       \n",
    "        #data = data[data['dcCost']<upper_offer]\n",
    "        \n",
    "        #ax.scatter(data['dcCost'], data['clients reduction (W)'], label=filename,marker=mark,color=color)\n",
    "        data=data1\n",
    "        data['clients reduction (W)'] = data['clients reduction (W)'].astype(float)\n",
    "        data['clients reduction (W)'] = data['clients reduction (W)'] * -1\n",
    "\n",
    "        nondominated = pareto.eps_sort([list(data.itertuples(False))], [0,1])\n",
    "        #nondominated['clients reduction (W)'] = nondominated['clients reduction (W)'] * -1\n",
    "        nondominated\n",
    "\n",
    "        data2 = pd.DataFrame(data=nondominated,columns=['r','c'])  # 1st row as the column names\n",
    "        data2['r'] = data2['r'] *-1\n",
    "    return data2 \n",
    "\n",
    "#fig, ax = plt.subplots()\n",
    "\n",
    "#data1 = procesarPareto(\"DRD-6-2-2-het\",\"highest-penalty\",\"pareto-dist\",\"null\",2000000,1,\"*\")\n",
    "#data1['p'] = 'pHPFd\\\\\\\\'\n",
    "#data= data1.copy()\n",
    "#data1 = procesarPareto(\"DRD-6-2-2-het\",\"highest-penalty\",\"pareto-global\",\"null\",2000000,1,\"*\")\n",
    "#data1['p'] = 'pHPFg\\\\\\\\'\n",
    "#data = data.append(data1)\n",
    "#data1 = procesarPareto(\"DRD-6-2-2-het\",\"highest-mips\",\"pareto-dist\",\"null\",2000000,1,\"*\")\n",
    "#data1['p'] = 'pLLFd\\\\\\\\'\n",
    "#data = data.append(data1)\n",
    "#data1 = procesarPareto(\"DRD-6-2-2-het\",\"highest-mips\",\"pareto-global\",\"null\",2000000,1,\"*\")\n",
    "#data1['p'] = 'pLLFg\\\\\\\\'\n",
    "#data = data.append(data1)\n",
    "#data1 = procesarPareto(\"DRD-6-2-2-het\",\"highest-deadline\",\"pareto-dist\",\"null\",2000000,1,\"*\")\n",
    "#data1['p'] = 'pHDFd\\\\\\\\'\n",
    "#data = data.append(data1)\n",
    "#data1 = procesarPareto(\"DRD-6-2-2-het\",\"highest-deadline\",\"pareto-global\",\"null\",2000000,1,\"*\")\n",
    "#data['p'] = 'pHDFg\\\\\\\\'\n",
    "#data = data.append(data1)\n",
    "#print_full(data)\n",
    "\n"
   ]
  },
  {
   "cell_type": "code",
   "execution_count": 6,
   "metadata": {},
   "outputs": [],
   "source": [
    "\n",
    "#table = pd.read_table(report1_dir+\"pareto-dist_highest-penalty-first_small-tol1.FUN\")\n",
    "#nondominated = pareto.eps_sort([list(table.itertuples(False))], [3, 4, 5], [1, 0.1, 3])\n",
    "\n",
    "\n"
   ]
  },
  {
   "cell_type": "markdown",
   "metadata": {},
   "source": [
    "## negoTiation"
   ]
  },
  {
   "cell_type": "code",
   "execution_count": 133,
   "metadata": {},
   "outputs": [],
   "source": [
    "\n",
    "def plotNash(pattern1,pattern2,pattern3,lesspattern,upper_offer,ax,mark,color):    \n",
    "    \n",
    "    for filename in [f for f in os.listdir(report1_dir +'/') if (pattern1 in f \n",
    "                                                                 and pattern2 in f\n",
    "                                                                 and pattern3 in f\n",
    "                                                                 and not lesspattern in f and \".FUN\" in f)]:\n",
    "        data = pd.read_csv(report1_dir +'/' +filename, header=None,sep=' ',skiprows=0,)\n",
    "        data.columns = [\n",
    "            'i','offer ($)', 'clients reduction (W)','motor','err','dcCost','socialCost','#V','VT',\n",
    "            'tenants','onsite','cool','H','penalty']\n",
    "\n",
    "        data1 = data[['clients reduction (W)','motor','offer ($)','err','dcCost','socialCost','#V','VT',\n",
    "                     'tenants','onsite','cool','H','penalty'\n",
    "                     ]]\n",
    "        data1 = data1.round(4)\n",
    "        \n",
    "        data1 = data1[data1['offer ($)']<upper_offer]\n",
    "        #data1['cost'] = data1['cool'] + data1['dcCost'] + data1['onsite']\n",
    "        #//data1 = data1.set_index('offer ($)')\n",
    "        \n",
    "        #data = data[data['dcCost']<upper_offer]\n",
    "        #print(data1)\n",
    "        #ax.scatter(data1['offer ($)'], data1['dcCost'], label='dcCost-' \n",
    "        #           + pattern1 +\"-\" + pattern2\n",
    "        #           ,marker=mark,color=color)\n",
    "        #ax.scatter(data1['offer ($)'], data1['#V'], label='DT-' \n",
    "        #           + pattern1\n",
    "        #           +\"-\" + pattern2 + \"-\"+ pattern3,\n",
    "        #           marker=mark,color=color)\n",
    "        ax.scatter(data1['offer ($)'], data1['penalty'], label='MP sin tol-' \n",
    "                   + pattern1\n",
    "                   +\"-\" + pattern2 + \"-\"+ pattern3,\n",
    "                   marker=mark,color=\"y\")\n",
    "        ax.scatter(data1['offer ($)'], data1['socialCost'], label='MP con tol-' \n",
    "                   + pattern1\n",
    "                   +\"-\" + pattern2 + \"-\"+ pattern3,\n",
    "                   marker=mark,color=\"b\")\n",
    "        #ax.scatter(data1.iloc[[-2,-1]]['offer ($)'], data1.iloc[[-2,-1]]['socialCost'], label='socialCost-' + pattern1,\n",
    "        #           marker=mark,color=\"c\")\n",
    "        \n",
    "        #ax.scatter(data1.iloc[[-2,-1]]['offer ($)'], data1.iloc[[-2,-1]]['dcCost'], \n",
    "        #           label='dcCost-last-' + pattern1,marker=mark,color=\"g\")\n",
    "\n",
    "       \n",
    "\n",
    "\n",
    "        \n",
    "    return ax \n",
    "\n",
    "def plotCost(pattern1,pattern2,pattern3,lesspattern,upper_offer,ax,mark,color):    \n",
    "    \n",
    "    for filename in [f for f in os.listdir(report1_dir +'/') if (pattern1 in f \n",
    "                                                                 and pattern2 in f\n",
    "                                                                 and pattern3 in f\n",
    "                                                                 and not lesspattern in f and \".FUN\" in f)]:\n",
    "        data = pd.read_csv(report1_dir +'/' +filename, header=None,sep=' ',skiprows=0,)\n",
    "        data.columns = [\n",
    "            'i','offer ($)', 'clients reduction (W)','motor','err','dcCost','socialCost','#V','VT',\n",
    "            'tenants','onsiteCost','cool','H','penalty']\n",
    "\n",
    "        data1 = data[['clients reduction (W)','motor','offer ($)','err','dcCost','socialCost',\n",
    "                     'tenants','onsiteCost','cool','H','penalty'\n",
    "                     ]]\n",
    "        data1 = data1.round(4)\n",
    "        \n",
    "        data1['cost'] = data1['cool'] + data1['dcCost'] + data1['onsite']\n",
    "        #//data1 = data1.set_index('offer ($)')\n",
    "        \n",
    "        #data = data[data['dcCost']<upper_offer]\n",
    "        #print(data1)\n",
    "        #ax.scatter(data['offer ($)'], data['dcCost'], label='dcCost',marker=mark,color=\"r\")\n",
    "        ax.scatter(data1['offer ($)'], data1['tenants'], label='paid to tenants',marker=mark,color=\"b\")\n",
    "        ax.scatter(data1['offer ($)'], data1['onsite'], label='onsite',marker=mark,color=\"g\")\n",
    "        ax.scatter(data1['offer ($)'], data1['cool'], label='cool',marker=mark,color=\"y\")\n",
    "        ax.scatter(data1['offer ($)'], data1['cost'], label='all cost',marker=mark,color=\"r\")\n",
    "\n",
    "\n",
    "        \n",
    "    return ax \n",
    "\n",
    "\n",
    "def plotPower(pattern1,pattern2,pattern3,lesspattern,upper_offer,ax,mark,color):    \n",
    "    \n",
    "    for filename in [f for f in os.listdir(report1_dir +'/') if (pattern1 in f \n",
    "                                                                 and pattern2 in f\n",
    "                                                                 and pattern3 in f\n",
    "                                                                 and not lesspattern in f and \".FUN\" in f)]:\n",
    "        data = pd.read_csv(report1_dir +'/' +filename, header=None,sep=' ',skiprows=0,)\n",
    "        data.columns = [\n",
    "            'i','offer ($)', 'clients reduction (W)','motor','err','dcCost','socialCost','#V','VT',\n",
    "            'tenants','onsiteCost','cool','H','penalty']\n",
    "\n",
    "        data1 = data[['clients reduction (W)','motor','offer ($)','err','dcCost','socialCost',\n",
    "                     'tenants','onsiteCost','cool','H','penalty'\n",
    "                     ]]\n",
    "        data1 = data1.round(4)\n",
    "        \n",
    "        data1['cost'] = data1['cool'] + data1['dcCost'] + data1['onsiteCost']\n",
    "        #//data1 = data1.set_index('offer ($)')\n",
    "        \n",
    "        #print(data1)\n",
    "        #ax.scatter(data['offer ($)'], data['dcCost'], label='dcCost',marker=mark,color=\"r\")\n",
    "        ax.scatter(data1['offer ($)'], data1['clients reduction (W)'], \n",
    "                   label='clients reduction (W)',marker=mark,color=\"b\")\n",
    "        ax.scatter(data1['offer ($)'], data1['H'],label='H',marker=mark,color=\"r\")\n",
    "        ax.scatter(data1['offer ($)'], data1['motor'],label='onsite',marker=mark,color=\"g\")\n",
    "\n",
    "        #ax.scatter(data1['offer ($)'], data1['onsite'], label='onsite',marker=mark,color=\"g\")\n",
    "        #ax.scatter(data1['offer ($)'], data1['cool'], label='cool',marker=mark,color=\"y\")\n",
    "        #ax.scatter(data1['offer ($)'], data1['cost'], label='all cost',marker=mark,color=\"r\")\n",
    "\n",
    "\n",
    "        \n",
    "    return ax \n"
   ]
  },
  {
   "cell_type": "code",
   "execution_count": 134,
   "metadata": {
    "scrolled": false
   },
   "outputs": [
    {
     "data": {
      "text/html": [
       "<style>div.output_scroll { height: 44em; }</style>"
      ],
      "text/plain": [
       "<IPython.core.display.HTML object>"
      ]
     },
     "metadata": {},
     "output_type": "display_data"
    },
    {
     "data": {
      "image/png": "[encoded data removed]",
      "text/plain": [
       "<Figure size 1080x432 with 2 Axes>"
      ]
     },
     "metadata": {
      "needs_background": "light"
     },
     "output_type": "display_data"
    }
   ],
   "source": [
    "import matplotlib.pyplot as plt\n",
    "%matplotlib inline\n",
    "plt.rcParams[\"figure.figsize\"] = [15, 6]\n",
    "\n",
    "def plotInst(name,no_legend):\n",
    "    fig, ax = plt.subplots(1,2)\n",
    "    #ax1 = plotCost(\"pareto-g\",\"\",\"HPF\",\"null\",20000000,ax[0],\"*\",\"r\")\n",
    "    ax1 = plotNash(\"pareto-g\",name,\"PL\",\"null\",4,ax[0],\"*\",\"b\")\n",
    "    #ax1 = plotNash(\"pareto-g\",name,\"PD\",\"null\",4,ax[0],\"*\",\"r\")\n",
    "    #ax1 = plotNash(\"pareto-g\",name,\"DL\",\"null\",4,ax[0],\"*\",\"y\")\n",
    "    \n",
    "    #ax1 = plotNash(\"nash\",name,\"PL\",\"null\",4,ax[0],\"*\",\"b\")\n",
    "    #ax1 = plotNash(\"nash\",name,\"PD\",\"null\",4,ax[0],\"*\",\"r\")\n",
    "    #ax1 = plotNash(\"nash\",name,\"DL\",\"null\",4,ax[0],\"*\",\"y\")\n",
    "\n",
    "    if not no_legend:\n",
    "        ax1.legend(loc='best', bbox_to_anchor=(0.3,1.2))\n",
    "    \n",
    "    ax1.set_xlabel('offer ($)')\n",
    "    ax1.set_ylabel('monetary units')\n",
    "    ax1.set_title('nash negotiation '+ name)\n",
    "    ax = plotPower(\"pareto-g\",name,\"PL\",\"null\",4,ax[1],\"*\",\"b\")\n",
    "\n",
    "    if not no_legend:\n",
    "        ax.legend(loc='best', bbox_to_anchor=(0.5,1.3))\n",
    "    ax.set_xlabel('offer ($)')\n",
    "    ax.set_ylabel('watts')\n",
    "    from IPython.core.display import display, HTML\n",
    "    display(HTML(\"<style>div.output_scroll { height: 44em; }</style>\"))\n",
    "    ax.set_title('offer/watts discretization ' + name)\n",
    "\n",
    "plotInst('DRD-3-1-1-het-1',False)\n",
    "#plotInst('small-tol0.8',True)\n",
    "#plotInst('medium-tol1',True)\n",
    "#plotInst('medium-tol0.8',True)\n",
    "#plotInst('medium-tol0.4',True)\n",
    "#plotInst('large-tol1',True)\n",
    "#plotInst('large-tol0.8',True)\n",
    "#plotInst('large-tol0.4',True)\n",
    "\n",
    "#plotInst('medium-tol0.4',True)\n",
    "#plotInst('medium-tol1',True)\n",
    "#plotInst('large-tol1',True)"
   ]
  },
  {
   "cell_type": "code",
   "execution_count": 135,
   "metadata": {},
   "outputs": [
    {
     "name": "stderr",
     "output_type": "stream",
     "text": [
      "No handles with labels found to put in legend.\n",
      "No handles with labels found to put in legend.\n"
     ]
    },
    {
     "data": {
      "text/html": [
       "<style>div.output_scroll { height: 44em; }</style>"
      ],
      "text/plain": [
       "<IPython.core.display.HTML object>"
      ]
     },
     "metadata": {},
     "output_type": "display_data"
    },
    {
     "data": {
      "image/png": "[encoded data removed]",
      "text/plain": [
       "<Figure size 1080x432 with 2 Axes>"
      ]
     },
     "metadata": {
      "needs_background": "light"
     },
     "output_type": "display_data"
    }
   ],
   "source": [
    "def plotMetric(name,no_legend):\n",
    "    fig, ax = plt.subplots(1,2)\n",
    "    #ax1 = plotCost(\"pareto-g\",\"\",\"HPF\",\"null\",20000000,ax[0],\"*\",\"r\")\n",
    "    ax1 = plotNash(\"pareto-g\",name,\"PL\",\"null\",4,ax[0],\"*\",\"b\")\n",
    "    ax1 = plotNash(\"pareto-g\",name,\"PD\",\"null\",4,ax[0],\"*\",\"r\")\n",
    "    ax1 = plotNash(\"pareto-g\",name,\"DL\",\"null\",4,ax[0],\"*\",\"y\")\n",
    "    \n",
    "    #ax1 = plotNash(\"nash\",name,\"PL\",\"null\",4,ax[0],\"*\",\"b\")\n",
    "    #ax1 = plotNash(\"nash\",name,\"PD\",\"null\",4,ax[0],\"*\",\"r\")\n",
    "    #ax1 = plotNash(\"nash\",name,\"DL\",\"null\",4,ax[0],\"*\",\"y\")\n",
    "\n",
    "    if not no_legend:\n",
    "        ax1.legend(loc='best', bbox_to_anchor=(0.3,1.2))\n",
    "    \n",
    "    ax1.set_xlabel('offer ($)')\n",
    "    ax1.set_ylabel('task')\n",
    "    ax1.set_title('nash negotiation '+ name)\n",
    "    ax = plotPower(\"pareto-g\",name,\"PL\",\"null\",4,ax[1],\"*\",\"b\")\n",
    "\n",
    "    if not no_legend:\n",
    "        ax.legend(loc='best', bbox_to_anchor=(0.5,1.3))\n",
    "    ax.set_xlabel('offer ($)')\n",
    "    ax.set_ylabel('watts')\n",
    "    from IPython.core.display import display, HTML\n",
    "    display(HTML(\"<style>div.output_scroll { height: 44em; }</style>\"))\n",
    "    ax.set_title('offer/watts discretization ' + name)\n",
    "plotMetric('small-tol1',False)   "
   ]
  },
  {
   "cell_type": "code",
   "execution_count": null,
   "metadata": {},
   "outputs": [],
   "source": []
  },
  {
   "cell_type": "code",
   "execution_count": null,
   "metadata": {},
   "outputs": [],
   "source": []
  },
  {
   "cell_type": "code",
   "execution_count": null,
   "metadata": {},
   "outputs": [],
   "source": []
  },
  {
   "cell_type": "code",
   "execution_count": null,
   "metadata": {},
   "outputs": [],
   "source": []
  },
  {
   "cell_type": "code",
   "execution_count": null,
   "metadata": {},
   "outputs": [],
   "source": []
  },
  {
   "cell_type": "code",
   "execution_count": null,
   "metadata": {},
   "outputs": [],
   "source": []
  },
  {
   "cell_type": "code",
   "execution_count": null,
   "metadata": {},
   "outputs": [],
   "source": []
  }
 ],
 "metadata": {
  "kernelspec": {
   "display_name": "Python 3",
   "language": "python",
   "name": "python3"
  },
  "language_info": {
   "codemirror_mode": {
    "name": "ipython",
    "version": 3
   },
   "file_extension": ".py",
   "mimetype": "text/x-python",
   "name": "python",
   "nbconvert_exporter": "python",
   "pygments_lexer": "ipython3",
   "version": "3.7.3"
  }
 },
 "nbformat": 4,
 "nbformat_minor": 2
}
