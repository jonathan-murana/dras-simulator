{
 "cells": [
  {
   "cell_type": "markdown",
   "metadata": {},
   "source": [
    "# DRAS scenario generation\n"
   ]
  },
  {
   "cell_type": "markdown",
   "metadata": {},
   "source": [
    "### library importation, constant definition and data loading from files"
   ]
  },
  {
   "cell_type": "markdown",
   "metadata": {},
   "source": [
    "The next cell defines the imports nedeed to execute the notebook"
   ]
  },
  {
   "cell_type": "code",
   "execution_count": 1,
   "metadata": {},
   "outputs": [
    {
     "name": "stdout",
     "output_type": "stream",
     "text": [
      "Populating the interactive namespace from numpy and matplotlib\n"
     ]
    }
   ],
   "source": [
    "import pandas as pd\n",
    "#!pip install geopandas\n",
    "import geopandas as gpd\n",
    "import matplotlib.pyplot as plt\n",
    "%pylab inline\n",
    "from math import sin, cos, sqrt, atan2, radians\n",
    "pd.set_option('precision', 2)\n",
    "from functools import reduce\n",
    "import os\n",
    "from operator import truediv\n",
    "from mpl_toolkits.mplot3d import Axes3D  # noqa: F401 unused import\n",
    "\n",
    "import matplotlib.pyplot as plt\n",
    "import numpy as np\n"
   ]
  },
  {
   "cell_type": "markdown",
   "metadata": {},
   "source": [
    "The next cell defines the contanst used by the procedures bellow\n"
   ]
  },
  {
   "cell_type": "code",
   "execution_count": 2,
   "metadata": {},
   "outputs": [],
   "source": [
    "instance_dir = '../dras-controller/instances/'\n",
    "\n",
    "ins_file = 'ins'\n",
    "ref_file = 'ref'\n",
    "w_file = 'w'\n"
   ]
  },
  {
   "cell_type": "markdown",
   "metadata": {},
   "source": [
    "INS   \n",
    "1 5 // client-number server-number  \n",
    "5 0.5 0.5 1 1 // client-server-number PAND PAD CRND CND  \n",
    "800 20 1 // schedule-duration interval-number kw-dolar  "
   ]
  },
  {
   "cell_type": "markdown",
   "metadata": {},
   "source": [
    "# example5\n",
    "\n",
    "the secenarios are generated from swf files\n",
    "\n"
   ]
  },
  {
   "cell_type": "code",
   "execution_count": 3,
   "metadata": {},
   "outputs": [],
   "source": [
    "example = 'random-grande'\n",
    "numpy.random.seed(seed=111)"
   ]
  },
  {
   "cell_type": "markdown",
   "metadata": {},
   "source": [
    "## ins"
   ]
  },
  {
   "cell_type": "code",
   "execution_count": 28,
   "metadata": {},
   "outputs": [],
   "source": [
    "C = 1\n",
    "R = 30\n",
    "schedule_duration  = 3600\n",
    "K = 60\n",
    "file_name = instance_dir + example + '/'+  ins_file\n",
    " \n",
    "d = {'C': [C], 'R': [R]}\n",
    "first = pd.DataFrame(data=d)\n",
    "first_name = file_name + \"_tmp1\"\n",
    "first.to_csv(first_name, sep=' ', encoding='utf-8', index=False, header=False)\n",
    "\n",
    "\n",
    "d = {'RN': [int(R/C) for i in range(C)], \n",
    "     'PAND': [0.5 for i in range(C)],\n",
    "     'PAD': [0.5 for i in range(C)],\n",
    "     'CRND': [1 for i in range(C)], \n",
    "     'CRD': [1 for i in range(C)]}\n",
    "\n",
    "second = pd.DataFrame(data=d)\n",
    "second_name = file_name + \"_tmp2\"\n",
    "second.to_csv(second_name, sep=' ', encoding='utf-8', index=False, header=False)\n",
    "\n",
    "d = {'schedule_duration': [schedule_duration],\n",
    "     'K': [K],\n",
    "     'kwdolar': [0]\n",
    "    }\n",
    "third = pd.DataFrame(data=d)\n",
    "third_name = file_name + \"_tmp3\"\n",
    "third.to_csv(third_name, sep=' ', encoding='utf-8', index=False, header=False)\n",
    "\n",
    "filenames = [first_name,second_name,third_name]\n",
    "with open(file_name, 'w') as outfile:\n",
    "    for fname in filenames:    \n",
    "        with open(fname) as infile:\n",
    "            for line in infile:\n",
    "                outfile.write(line)\n",
    "        os.remove(fname)\n",
    "        "
   ]
  },
  {
   "cell_type": "markdown",
   "metadata": {},
   "source": [
    "## w\n",
    "\n"
   ]
  },
  {
   "cell_type": "code",
   "execution_count": 31,
   "metadata": {},
   "outputs": [],
   "source": [
    "base_loss = 1\n",
    "offset_loss = 50\n",
    "W = 500 * 3 * 10\n",
    "base_task_mips = 60*1000\n",
    "factor_task_mips = 3\n",
    "deadline_factor = 60\n",
    "\n",
    "\n",
    "numpy.random.seed(seed=111)\n",
    "\n",
    "for clientId in range(C): \n",
    "\n",
    "    # read from worload exp1\n",
    "    data = pd.DataFrame() \n",
    "    data['arriveTime'] = numpy.random.randint(0,3600, size=W)\n",
    "\n",
    "\n",
    "    data = data.sort_values(by=['arriveTime'])\n",
    "    data['type'] = numpy.random.randint(0,1 + 1, size=W )\n",
    "    data['mips'] = numpy.random.randint(base_task_mips,base_task_mips*factor_task_mips, size=W)\n",
    "\n",
    "    server_mips = 1000\n",
    "\n",
    "    data['deadline'] = data.apply(lambda e: random.randint(e.mips/server_mips , e.mips/server_mips * deadline_factor)\n",
    "                                  ,axis = 1) \n",
    "\n",
    "    data['loss'] = numpy.random.randint(base_loss,base_loss + offset_loss + 1, size=W)\n",
    "    \n",
    "\n",
    "    file_name = instance_dir + example + '/'+  w_file\n",
    "    file_name_client = file_name + str(clientId)    \n",
    "    d = {'W': [W]}\n",
    "    first = pd.DataFrame(data=d)\n",
    "    first_name = file_name_client + \"_tmp1\"\n",
    "    first.to_csv(first_name, sep=' ', encoding='utf-8', index=False, header=False)\n",
    "    d = {'clientId': [clientId for i in range(W)], \n",
    "         'mips': data['mips'],\n",
    "         'arriveTime': data['arriveTime'],\n",
    "         'deadline': data['deadline'], \n",
    "         'deferable': [1 for i in range(W)],\n",
    "         'loss':  data['loss'],\n",
    "         'type': data['type']    \n",
    "        }\n",
    "    second = pd.DataFrame(data=d) \n",
    "    second_name = file_name_client + \"_tmp2\"\n",
    "    second.to_csv(second_name, sep=' ', encoding='utf-8', index=False, header=False)\n",
    "\n",
    "    filenames = [first_name,second_name]\n",
    "    with open(file_name_client, 'w') as outfile:\n",
    "        for fname in filenames:    \n",
    "            with open(fname) as infile:\n",
    "                for line in infile:\n",
    "                    outfile.write(line)\n",
    "                os.remove(fname)\n",
    "\n"
   ]
  },
  {
   "cell_type": "code",
   "execution_count": 6,
   "metadata": {},
   "outputs": [
    {
     "data": {
      "text/plain": [
       "<matplotlib.axes._subplots.AxesSubplot at 0x7f79b5d2bef0>"
      ]
     },
     "execution_count": 6,
     "metadata": {},
     "output_type": "execute_result"
    },
    {
     "data": {
      "image/png": "[encoded data removed]",
      "text/plain": [
       "<Figure size 432x288 with 1 Axes>"
      ]
     },
     "metadata": {
      "needs_background": "light"
     },
     "output_type": "display_data"
    }
   ],
   "source": [
    "filename = '/home/jmurana/code/cloudsim-cecal/workload/jobType/30 weeks/exp5.swf'\n",
    "data = pd.read_csv(filename, header=None,sep='\\t',skiprows=0,)\n",
    "data.columns = [\n",
    "    'x1', 'x2','x3', 'x4','x5', 'x6','x7', 'x8', \n",
    "     'x9', 'x10','x11', 'x12','x13', 'x14','x15', 'x16',\n",
    "                'x17','x18', 'x19','x20', 'x21','x22', 'x23',]\n",
    "\n",
    "data['x2'].plot()"
   ]
  },
  {
   "cell_type": "code",
   "execution_count": null,
   "metadata": {},
   "outputs": [],
   "source": []
  },
  {
   "cell_type": "code",
   "execution_count": null,
   "metadata": {},
   "outputs": [],
   "source": []
  }
 ],
 "metadata": {
  "kernelspec": {
   "display_name": "Python 3",
   "language": "python",
   "name": "python3"
  },
  "language_info": {
   "codemirror_mode": {
    "name": "ipython",
    "version": 3
   },
   "file_extension": ".py",
   "mimetype": "text/x-python",
   "name": "python",
   "nbconvert_exporter": "python",
   "pygments_lexer": "ipython3",
   "version": "3.7.3"
  }
 },
 "nbformat": 4,
 "nbformat_minor": 2
}
